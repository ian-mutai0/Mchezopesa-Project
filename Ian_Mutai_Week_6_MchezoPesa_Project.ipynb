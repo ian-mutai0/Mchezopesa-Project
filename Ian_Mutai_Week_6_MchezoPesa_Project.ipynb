{
  "nbformat": 4,
  "nbformat_minor": 0,
  "metadata": {
    "colab": {
      "name": "Ian Mutai Week 6 MchezoPesa Project.ipynb",
      "provenance": [],
      "collapsed_sections": [],
      "toc_visible": true,
      "authorship_tag": "ABX9TyOu3IJCv4NazxxYXG3Zv/nW",
      "include_colab_link": true
    },
    "kernelspec": {
      "name": "python3",
      "display_name": "Python 3"
    },
    "language_info": {
      "name": "python"
    }
  },
  "cells": [
    {
      "cell_type": "markdown",
      "metadata": {
        "id": "view-in-github",
        "colab_type": "text"
      },
      "source": [
        "<a href=\"https://colab.research.google.com/github/ian-mutai0/Mchezopesa-Project/blob/main/Ian_Mutai_Week_6_MchezoPesa_Project.ipynb\" target=\"_parent\"><img src=\"https://colab.research.google.com/assets/colab-badge.svg\" alt=\"Open In Colab\"/></a>"
      ]
    },
    {
      "cell_type": "markdown",
      "metadata": {
        "id": "XAkYfY1Du1Nx"
      },
      "source": [
        "#**MCHEZOPESA PROJECT**"
      ]
    },
    {
      "cell_type": "markdown",
      "metadata": {
        "id": "56POSns5u1Jd"
      },
      "source": [
        "# 1.0 Defining the Question"
      ]
    },
    {
      "cell_type": "markdown",
      "metadata": {
        "id": "ltngsOLou1Fk"
      },
      "source": [
        "> ## i) Specifying the data analytic question"
      ]
    },
    {
      "cell_type": "markdown",
      "metadata": {
        "id": "QNj4hPdBu08s"
      },
      "source": [
        "- As a football analyst in a company - Mchezopesa Ltd, I have been tasked to accomplish the task below.\n",
        "\n",
        "- A prediction result of a game between team 1 and team 2, based on who's home and who's away, and on whether or not the game is friendly (include rank in your training).\n"
      ]
    },
    {
      "cell_type": "markdown",
      "metadata": {
        "id": "P2HGOs76u03s"
      },
      "source": [
        "> ## ii) Defining the metric of success"
      ]
    },
    {
      "cell_type": "markdown",
      "metadata": {
        "id": "hMB6-okqu0wR"
      },
      "source": [
        "- Using Polynomial approach, to be able to come up with two models that can predict the number of goals scored by the home team and the away team respectively\n",
        "- Using Logistic approach, to be able to figure out from the home team’s perspective if the game was a Win, Lose or Draw (W, L, D)"
      ]
    },
    {
      "cell_type": "markdown",
      "metadata": {
        "id": "SoTHOTNKu0hV"
      },
      "source": [
        "> ## iii) Understanding the context"
      ]
    },
    {
      "cell_type": "markdown",
      "metadata": {
        "id": "6sguafmGw3M9"
      },
      "source": [
        "You have been recruited as a football analyst in a company - Mchezopesa Ltd and tasked to accomplish the task below.\n",
        "\n",
        "A prediction result of a game between team 1 and team 2, based on who's home and who's away, and on whether or not the game is friendly (include rank in your training).\n",
        "\n",
        "You have two possible approaches (as  shown below) given the datasets that will be provided i.e. logistic and polynomial approaches\n",
        "\n",
        "Input: Home team, Away team, Tournament type (World cup, Friendly, Other)"
      ]
    },
    {
      "cell_type": "markdown",
      "metadata": {
        "id": "NyD48OsWxFGs"
      },
      "source": [
        "> ## iv) Recording the Experimental Design"
      ]
    },
    {
      "cell_type": "markdown",
      "metadata": {
        "id": "Rv7UqF2oxKh7"
      },
      "source": [
        "- Reading the dataset into our environment.\n",
        "- Tidying the data by checking for outliers, null values and duplicates and dealing with them.\n",
        "-Plotting univariate and bivariate summaries recording the observations.\n",
        "- Implementing our solution by trying out different models and comparing to get the best model out of all approaches used. \n",
        "- Before modelling, make sure to check for multicollinearity.\n",
        "- Select the target and predictor variables necessary in modelling\n",
        "- Split the dataset into train and test sets. \n",
        "- Convert the categorical variables to numerical variables so as to be able to work with them in our models\n",
        "- Perform regression (linear, polynomial) but maintain the data to be used for logistic approach. \n",
        "- Check for residuals and also test for heteroskedasticity\n",
        "- Compute the accuracy of the models \n",
        "- Challenge the solution by trying to either add additional features or trying different models"
      ]
    },
    {
      "cell_type": "markdown",
      "metadata": {
        "id": "wD1y3HkEza8e"
      },
      "source": [
        "> ## v) Data relevance"
      ]
    },
    {
      "cell_type": "markdown",
      "metadata": {
        "id": "pF5Iyhn9zhoB"
      },
      "source": [
        "Given the dataset, we can conclude that it is relevant because in order to predict the goals a home side or away side score in a match, then you'd need to have the rank of the teams, tournament in which the teams are playing and their respective names which are all present columns in our dataset."
      ]
    },
    {
      "cell_type": "markdown",
      "metadata": {
        "id": "cLe671_VtjLc"
      },
      "source": [
        "# 2.0 Importing the relevant libraries"
      ]
    },
    {
      "cell_type": "code",
      "metadata": {
        "id": "jCLK3z7hedqe"
      },
      "source": [
        "#Importing our required libraries\n",
        "import pandas as pd\n",
        "import numpy as np\n",
        "import seaborn as sns\n",
        "import matplotlib\n",
        "from matplotlib import pyplot as plt\n",
        "%matplotlib inline\n",
        "from sklearn.preprocessing import LabelEncoder\n",
        "from sklearn.preprocessing import StandardScaler , PolynomialFeatures\n",
        "from sklearn.model_selection import train_test_split\n",
        "from sklearn.linear_model import LinearRegression , LogisticRegression\n",
        "from sklearn.metrics import mean_squared_error , accuracy_score , confusion_matrix\n",
        "from sklearn.model_selection import GridSearchCV , KFold , StratifiedKFold , cross_val_score\n",
        "import warnings \n",
        "warnings.filterwarnings('ignore')"
      ],
      "execution_count": 148,
      "outputs": []
    },
    {
      "cell_type": "markdown",
      "metadata": {
        "id": "TelFb9Jets65"
      },
      "source": [
        "# 3.0 Loading the datasets"
      ]
    },
    {
      "cell_type": "code",
      "metadata": {
        "colab": {
          "base_uri": "https://localhost:8080/",
          "height": 309
        },
        "id": "HNvFexkKgbwS",
        "outputId": "f831eec0-378a-40fb-b9d0-00fd92f7bc1c"
      },
      "source": [
        "# Loading the Fifa ranking dataset \n",
        "fifa = pd.read_csv('/content/fifa_ranking.csv')\n",
        "fifa.head()"
      ],
      "execution_count": 149,
      "outputs": [
        {
          "output_type": "execute_result",
          "data": {
            "text/html": [
              "<div>\n",
              "<style scoped>\n",
              "    .dataframe tbody tr th:only-of-type {\n",
              "        vertical-align: middle;\n",
              "    }\n",
              "\n",
              "    .dataframe tbody tr th {\n",
              "        vertical-align: top;\n",
              "    }\n",
              "\n",
              "    .dataframe thead th {\n",
              "        text-align: right;\n",
              "    }\n",
              "</style>\n",
              "<table border=\"1\" class=\"dataframe\">\n",
              "  <thead>\n",
              "    <tr style=\"text-align: right;\">\n",
              "      <th></th>\n",
              "      <th>rank</th>\n",
              "      <th>country_full</th>\n",
              "      <th>country_abrv</th>\n",
              "      <th>total_points</th>\n",
              "      <th>previous_points</th>\n",
              "      <th>rank_change</th>\n",
              "      <th>cur_year_avg</th>\n",
              "      <th>cur_year_avg_weighted</th>\n",
              "      <th>last_year_avg</th>\n",
              "      <th>last_year_avg_weighted</th>\n",
              "      <th>two_year_ago_avg</th>\n",
              "      <th>two_year_ago_weighted</th>\n",
              "      <th>three_year_ago_avg</th>\n",
              "      <th>three_year_ago_weighted</th>\n",
              "      <th>confederation</th>\n",
              "      <th>rank_date</th>\n",
              "    </tr>\n",
              "  </thead>\n",
              "  <tbody>\n",
              "    <tr>\n",
              "      <th>0</th>\n",
              "      <td>1</td>\n",
              "      <td>Germany</td>\n",
              "      <td>GER</td>\n",
              "      <td>0.0</td>\n",
              "      <td>57</td>\n",
              "      <td>0</td>\n",
              "      <td>0.0</td>\n",
              "      <td>0.0</td>\n",
              "      <td>0.0</td>\n",
              "      <td>0.0</td>\n",
              "      <td>0.0</td>\n",
              "      <td>0.0</td>\n",
              "      <td>0.0</td>\n",
              "      <td>0.0</td>\n",
              "      <td>UEFA</td>\n",
              "      <td>1993-08-08</td>\n",
              "    </tr>\n",
              "    <tr>\n",
              "      <th>1</th>\n",
              "      <td>2</td>\n",
              "      <td>Italy</td>\n",
              "      <td>ITA</td>\n",
              "      <td>0.0</td>\n",
              "      <td>57</td>\n",
              "      <td>0</td>\n",
              "      <td>0.0</td>\n",
              "      <td>0.0</td>\n",
              "      <td>0.0</td>\n",
              "      <td>0.0</td>\n",
              "      <td>0.0</td>\n",
              "      <td>0.0</td>\n",
              "      <td>0.0</td>\n",
              "      <td>0.0</td>\n",
              "      <td>UEFA</td>\n",
              "      <td>1993-08-08</td>\n",
              "    </tr>\n",
              "    <tr>\n",
              "      <th>2</th>\n",
              "      <td>3</td>\n",
              "      <td>Switzerland</td>\n",
              "      <td>SUI</td>\n",
              "      <td>0.0</td>\n",
              "      <td>50</td>\n",
              "      <td>9</td>\n",
              "      <td>0.0</td>\n",
              "      <td>0.0</td>\n",
              "      <td>0.0</td>\n",
              "      <td>0.0</td>\n",
              "      <td>0.0</td>\n",
              "      <td>0.0</td>\n",
              "      <td>0.0</td>\n",
              "      <td>0.0</td>\n",
              "      <td>UEFA</td>\n",
              "      <td>1993-08-08</td>\n",
              "    </tr>\n",
              "    <tr>\n",
              "      <th>3</th>\n",
              "      <td>4</td>\n",
              "      <td>Sweden</td>\n",
              "      <td>SWE</td>\n",
              "      <td>0.0</td>\n",
              "      <td>55</td>\n",
              "      <td>0</td>\n",
              "      <td>0.0</td>\n",
              "      <td>0.0</td>\n",
              "      <td>0.0</td>\n",
              "      <td>0.0</td>\n",
              "      <td>0.0</td>\n",
              "      <td>0.0</td>\n",
              "      <td>0.0</td>\n",
              "      <td>0.0</td>\n",
              "      <td>UEFA</td>\n",
              "      <td>1993-08-08</td>\n",
              "    </tr>\n",
              "    <tr>\n",
              "      <th>4</th>\n",
              "      <td>5</td>\n",
              "      <td>Argentina</td>\n",
              "      <td>ARG</td>\n",
              "      <td>0.0</td>\n",
              "      <td>51</td>\n",
              "      <td>5</td>\n",
              "      <td>0.0</td>\n",
              "      <td>0.0</td>\n",
              "      <td>0.0</td>\n",
              "      <td>0.0</td>\n",
              "      <td>0.0</td>\n",
              "      <td>0.0</td>\n",
              "      <td>0.0</td>\n",
              "      <td>0.0</td>\n",
              "      <td>CONMEBOL</td>\n",
              "      <td>1993-08-08</td>\n",
              "    </tr>\n",
              "  </tbody>\n",
              "</table>\n",
              "</div>"
            ],
            "text/plain": [
              "   rank country_full  ... confederation   rank_date\n",
              "0     1      Germany  ...          UEFA  1993-08-08\n",
              "1     2        Italy  ...          UEFA  1993-08-08\n",
              "2     3  Switzerland  ...          UEFA  1993-08-08\n",
              "3     4       Sweden  ...          UEFA  1993-08-08\n",
              "4     5    Argentina  ...      CONMEBOL  1993-08-08\n",
              "\n",
              "[5 rows x 16 columns]"
            ]
          },
          "metadata": {
            "tags": []
          },
          "execution_count": 149
        }
      ]
    },
    {
      "cell_type": "code",
      "metadata": {
        "colab": {
          "base_uri": "https://localhost:8080/"
        },
        "id": "z61TF0JJgrPI",
        "outputId": "fa53558b-d56d-411d-f4e2-159b1048200c"
      },
      "source": [
        "# Checking the number of rows and columns in our Fifa ranking dataset\n",
        "fifa.shape"
      ],
      "execution_count": 150,
      "outputs": [
        {
          "output_type": "execute_result",
          "data": {
            "text/plain": [
              "(57793, 16)"
            ]
          },
          "metadata": {
            "tags": []
          },
          "execution_count": 150
        }
      ]
    },
    {
      "cell_type": "code",
      "metadata": {
        "colab": {
          "base_uri": "https://localhost:8080/"
        },
        "id": "qhllpV1Vg6aJ",
        "outputId": "a310f416-2e47-44b1-cb1a-eb015a377526"
      },
      "source": [
        "# Checking the information about our fifa dataset\n",
        "fifa.info()"
      ],
      "execution_count": 151,
      "outputs": [
        {
          "output_type": "stream",
          "text": [
            "<class 'pandas.core.frame.DataFrame'>\n",
            "RangeIndex: 57793 entries, 0 to 57792\n",
            "Data columns (total 16 columns):\n",
            " #   Column                   Non-Null Count  Dtype  \n",
            "---  ------                   --------------  -----  \n",
            " 0   rank                     57793 non-null  int64  \n",
            " 1   country_full             57793 non-null  object \n",
            " 2   country_abrv             57793 non-null  object \n",
            " 3   total_points             57793 non-null  float64\n",
            " 4   previous_points          57793 non-null  int64  \n",
            " 5   rank_change              57793 non-null  int64  \n",
            " 6   cur_year_avg             57793 non-null  float64\n",
            " 7   cur_year_avg_weighted    57793 non-null  float64\n",
            " 8   last_year_avg            57793 non-null  float64\n",
            " 9   last_year_avg_weighted   57793 non-null  float64\n",
            " 10  two_year_ago_avg         57793 non-null  float64\n",
            " 11  two_year_ago_weighted    57793 non-null  float64\n",
            " 12  three_year_ago_avg       57793 non-null  float64\n",
            " 13  three_year_ago_weighted  57793 non-null  float64\n",
            " 14  confederation            57793 non-null  object \n",
            " 15  rank_date                57793 non-null  object \n",
            "dtypes: float64(9), int64(3), object(4)\n",
            "memory usage: 7.1+ MB\n"
          ],
          "name": "stdout"
        }
      ]
    },
    {
      "cell_type": "code",
      "metadata": {
        "colab": {
          "base_uri": "https://localhost:8080/",
          "height": 204
        },
        "id": "WVpQprIOg-Ms",
        "outputId": "a81a8e88-1e43-48ee-8190-8b1aec8f1700"
      },
      "source": [
        "# Loading the results dataset\n",
        "results = pd.read_csv('/content/results.csv')\n",
        "results.head()"
      ],
      "execution_count": 152,
      "outputs": [
        {
          "output_type": "execute_result",
          "data": {
            "text/html": [
              "<div>\n",
              "<style scoped>\n",
              "    .dataframe tbody tr th:only-of-type {\n",
              "        vertical-align: middle;\n",
              "    }\n",
              "\n",
              "    .dataframe tbody tr th {\n",
              "        vertical-align: top;\n",
              "    }\n",
              "\n",
              "    .dataframe thead th {\n",
              "        text-align: right;\n",
              "    }\n",
              "</style>\n",
              "<table border=\"1\" class=\"dataframe\">\n",
              "  <thead>\n",
              "    <tr style=\"text-align: right;\">\n",
              "      <th></th>\n",
              "      <th>date</th>\n",
              "      <th>home_team</th>\n",
              "      <th>away_team</th>\n",
              "      <th>home_score</th>\n",
              "      <th>away_score</th>\n",
              "      <th>tournament</th>\n",
              "      <th>city</th>\n",
              "      <th>country</th>\n",
              "      <th>neutral</th>\n",
              "    </tr>\n",
              "  </thead>\n",
              "  <tbody>\n",
              "    <tr>\n",
              "      <th>0</th>\n",
              "      <td>1872-11-30</td>\n",
              "      <td>Scotland</td>\n",
              "      <td>England</td>\n",
              "      <td>0</td>\n",
              "      <td>0</td>\n",
              "      <td>Friendly</td>\n",
              "      <td>Glasgow</td>\n",
              "      <td>Scotland</td>\n",
              "      <td>False</td>\n",
              "    </tr>\n",
              "    <tr>\n",
              "      <th>1</th>\n",
              "      <td>1873-03-08</td>\n",
              "      <td>England</td>\n",
              "      <td>Scotland</td>\n",
              "      <td>4</td>\n",
              "      <td>2</td>\n",
              "      <td>Friendly</td>\n",
              "      <td>London</td>\n",
              "      <td>England</td>\n",
              "      <td>False</td>\n",
              "    </tr>\n",
              "    <tr>\n",
              "      <th>2</th>\n",
              "      <td>1874-03-07</td>\n",
              "      <td>Scotland</td>\n",
              "      <td>England</td>\n",
              "      <td>2</td>\n",
              "      <td>1</td>\n",
              "      <td>Friendly</td>\n",
              "      <td>Glasgow</td>\n",
              "      <td>Scotland</td>\n",
              "      <td>False</td>\n",
              "    </tr>\n",
              "    <tr>\n",
              "      <th>3</th>\n",
              "      <td>1875-03-06</td>\n",
              "      <td>England</td>\n",
              "      <td>Scotland</td>\n",
              "      <td>2</td>\n",
              "      <td>2</td>\n",
              "      <td>Friendly</td>\n",
              "      <td>London</td>\n",
              "      <td>England</td>\n",
              "      <td>False</td>\n",
              "    </tr>\n",
              "    <tr>\n",
              "      <th>4</th>\n",
              "      <td>1876-03-04</td>\n",
              "      <td>Scotland</td>\n",
              "      <td>England</td>\n",
              "      <td>3</td>\n",
              "      <td>0</td>\n",
              "      <td>Friendly</td>\n",
              "      <td>Glasgow</td>\n",
              "      <td>Scotland</td>\n",
              "      <td>False</td>\n",
              "    </tr>\n",
              "  </tbody>\n",
              "</table>\n",
              "</div>"
            ],
            "text/plain": [
              "         date home_team away_team  ...     city   country neutral\n",
              "0  1872-11-30  Scotland   England  ...  Glasgow  Scotland   False\n",
              "1  1873-03-08   England  Scotland  ...   London   England   False\n",
              "2  1874-03-07  Scotland   England  ...  Glasgow  Scotland   False\n",
              "3  1875-03-06   England  Scotland  ...   London   England   False\n",
              "4  1876-03-04  Scotland   England  ...  Glasgow  Scotland   False\n",
              "\n",
              "[5 rows x 9 columns]"
            ]
          },
          "metadata": {
            "tags": []
          },
          "execution_count": 152
        }
      ]
    },
    {
      "cell_type": "code",
      "metadata": {
        "colab": {
          "base_uri": "https://localhost:8080/"
        },
        "id": "JvfKSg73WFJU",
        "outputId": "d02c8fb0-c378-4d27-f49f-b849cffef5dd"
      },
      "source": [
        "# Checking the shape of the results dataset\n",
        "results.shape"
      ],
      "execution_count": 153,
      "outputs": [
        {
          "output_type": "execute_result",
          "data": {
            "text/plain": [
              "(40839, 9)"
            ]
          },
          "metadata": {
            "tags": []
          },
          "execution_count": 153
        }
      ]
    },
    {
      "cell_type": "code",
      "metadata": {
        "colab": {
          "base_uri": "https://localhost:8080/"
        },
        "id": "1O_1r5zbWRdS",
        "outputId": "2d872bb2-e958-4322-d267-0b27504c90e4"
      },
      "source": [
        "# Checking the information about our results dataset\n",
        "results.info()"
      ],
      "execution_count": 154,
      "outputs": [
        {
          "output_type": "stream",
          "text": [
            "<class 'pandas.core.frame.DataFrame'>\n",
            "RangeIndex: 40839 entries, 0 to 40838\n",
            "Data columns (total 9 columns):\n",
            " #   Column      Non-Null Count  Dtype \n",
            "---  ------      --------------  ----- \n",
            " 0   date        40839 non-null  object\n",
            " 1   home_team   40839 non-null  object\n",
            " 2   away_team   40839 non-null  object\n",
            " 3   home_score  40839 non-null  int64 \n",
            " 4   away_score  40839 non-null  int64 \n",
            " 5   tournament  40839 non-null  object\n",
            " 6   city        40839 non-null  object\n",
            " 7   country     40839 non-null  object\n",
            " 8   neutral     40839 non-null  bool  \n",
            "dtypes: bool(1), int64(2), object(6)\n",
            "memory usage: 2.5+ MB\n"
          ],
          "name": "stdout"
        }
      ]
    },
    {
      "cell_type": "markdown",
      "metadata": {
        "id": "2ymsFUxGjoLq"
      },
      "source": [
        "# 4.0 Cleaning the Datasets"
      ]
    },
    {
      "cell_type": "markdown",
      "metadata": {
        "id": "04N9o2kLYzgn"
      },
      "source": [
        "## i) Validity "
      ]
    },
    {
      "cell_type": "code",
      "metadata": {
        "id": "Tat4jA_2Yyhy"
      },
      "source": [
        "# Dropping the irrelevant columns from both our datasets\n",
        "# We'll start with the fifa ranking dataset\n",
        "fifa.drop(columns = ['cur_year_avg', 'cur_year_avg_weighted', 'last_year_avg', 'last_year_avg_weighted', 'two_year_ago_avg', 'two_year_ago_weighted', 'three_year_ago_avg', 'three_year_ago_weighted', 'confederation', 'country_abrv'], inplace=True)"
      ],
      "execution_count": 155,
      "outputs": []
    },
    {
      "cell_type": "code",
      "metadata": {
        "id": "lR4pj3mwansh"
      },
      "source": [
        "# Dropping the irrelevant columns in the results dataset\n",
        "results.drop(columns = ['city'], inplace=True)"
      ],
      "execution_count": 156,
      "outputs": []
    },
    {
      "cell_type": "markdown",
      "metadata": {
        "id": "5bxlWpjejxUn"
      },
      "source": [
        "## ii) Accuracy"
      ]
    },
    {
      "cell_type": "code",
      "metadata": {
        "id": "x1YibBwdlK5f"
      },
      "source": [
        ""
      ],
      "execution_count": 156,
      "outputs": []
    },
    {
      "cell_type": "markdown",
      "metadata": {
        "id": "R7o6uPhPkNpr"
      },
      "source": [
        "## iii) Completeness"
      ]
    },
    {
      "cell_type": "code",
      "metadata": {
        "colab": {
          "base_uri": "https://localhost:8080/"
        },
        "id": "ZWGku3B-XtZQ",
        "outputId": "79f0be40-8e07-4bc2-b15d-6b378009f526"
      },
      "source": [
        "# Checking for null values in the fifa ranking dataset\n",
        "fifa.isnull().any()"
      ],
      "execution_count": 157,
      "outputs": [
        {
          "output_type": "execute_result",
          "data": {
            "text/plain": [
              "rank               False\n",
              "country_full       False\n",
              "total_points       False\n",
              "previous_points    False\n",
              "rank_change        False\n",
              "rank_date          False\n",
              "dtype: bool"
            ]
          },
          "metadata": {
            "tags": []
          },
          "execution_count": 157
        }
      ]
    },
    {
      "cell_type": "code",
      "metadata": {
        "colab": {
          "base_uri": "https://localhost:8080/"
        },
        "id": "Z0onQBTiYQ-Z",
        "outputId": "b410cfdb-d1cf-4fb8-cd8a-6d18081c26f0"
      },
      "source": [
        "# Checking for null values in the results dataset\n",
        "results.isnull().any()"
      ],
      "execution_count": 158,
      "outputs": [
        {
          "output_type": "execute_result",
          "data": {
            "text/plain": [
              "date          False\n",
              "home_team     False\n",
              "away_team     False\n",
              "home_score    False\n",
              "away_score    False\n",
              "tournament    False\n",
              "country       False\n",
              "neutral       False\n",
              "dtype: bool"
            ]
          },
          "metadata": {
            "tags": []
          },
          "execution_count": 158
        }
      ]
    },
    {
      "cell_type": "markdown",
      "metadata": {
        "id": "PgP93BPPjp-E"
      },
      "source": [
        "## iv) Consistency"
      ]
    },
    {
      "cell_type": "code",
      "metadata": {
        "id": "Ykgt07GBjYWe"
      },
      "source": [
        "# Checking for duplicate values in the fifa ranking dataset\n",
        "fifa.duplicated().any()\n",
        "\n",
        "# Dropping the duplicate values\n",
        "fifa.drop_duplicates(keep='first', inplace=True)"
      ],
      "execution_count": 159,
      "outputs": []
    },
    {
      "cell_type": "code",
      "metadata": {
        "colab": {
          "base_uri": "https://localhost:8080/"
        },
        "id": "HO8Yfp_ClfNE",
        "outputId": "c552bf62-bcb1-4121-b7cb-17c95ec97176"
      },
      "source": [
        "# Checking for duplicate values in the results dataset\n",
        "results.duplicated().any()"
      ],
      "execution_count": 160,
      "outputs": [
        {
          "output_type": "execute_result",
          "data": {
            "text/plain": [
              "False"
            ]
          },
          "metadata": {
            "tags": []
          },
          "execution_count": 160
        }
      ]
    },
    {
      "cell_type": "markdown",
      "metadata": {
        "id": "JLQfzp-hkFfq"
      },
      "source": [
        "## v) Uniformity"
      ]
    },
    {
      "cell_type": "code",
      "metadata": {
        "colab": {
          "base_uri": "https://localhost:8080/",
          "height": 204
        },
        "id": "Na8OUjfilJLQ",
        "outputId": "8877180a-a704-4b41-e400-9b0470493598"
      },
      "source": [
        "# Fifa Ranking Dataset\n",
        "# Changing column names to upper case and placing underscore to make the column names uniform in the fifa dataset\n",
        "fifa.columns = fifa.columns.str.strip().str.lower().str.replace(' ', '_').str.replace('(', '').str.replace(')', '')\n",
        "fifa.head(5)"
      ],
      "execution_count": 161,
      "outputs": [
        {
          "output_type": "execute_result",
          "data": {
            "text/html": [
              "<div>\n",
              "<style scoped>\n",
              "    .dataframe tbody tr th:only-of-type {\n",
              "        vertical-align: middle;\n",
              "    }\n",
              "\n",
              "    .dataframe tbody tr th {\n",
              "        vertical-align: top;\n",
              "    }\n",
              "\n",
              "    .dataframe thead th {\n",
              "        text-align: right;\n",
              "    }\n",
              "</style>\n",
              "<table border=\"1\" class=\"dataframe\">\n",
              "  <thead>\n",
              "    <tr style=\"text-align: right;\">\n",
              "      <th></th>\n",
              "      <th>rank</th>\n",
              "      <th>country_full</th>\n",
              "      <th>total_points</th>\n",
              "      <th>previous_points</th>\n",
              "      <th>rank_change</th>\n",
              "      <th>rank_date</th>\n",
              "    </tr>\n",
              "  </thead>\n",
              "  <tbody>\n",
              "    <tr>\n",
              "      <th>0</th>\n",
              "      <td>1</td>\n",
              "      <td>Germany</td>\n",
              "      <td>0.0</td>\n",
              "      <td>57</td>\n",
              "      <td>0</td>\n",
              "      <td>1993-08-08</td>\n",
              "    </tr>\n",
              "    <tr>\n",
              "      <th>1</th>\n",
              "      <td>2</td>\n",
              "      <td>Italy</td>\n",
              "      <td>0.0</td>\n",
              "      <td>57</td>\n",
              "      <td>0</td>\n",
              "      <td>1993-08-08</td>\n",
              "    </tr>\n",
              "    <tr>\n",
              "      <th>2</th>\n",
              "      <td>3</td>\n",
              "      <td>Switzerland</td>\n",
              "      <td>0.0</td>\n",
              "      <td>50</td>\n",
              "      <td>9</td>\n",
              "      <td>1993-08-08</td>\n",
              "    </tr>\n",
              "    <tr>\n",
              "      <th>3</th>\n",
              "      <td>4</td>\n",
              "      <td>Sweden</td>\n",
              "      <td>0.0</td>\n",
              "      <td>55</td>\n",
              "      <td>0</td>\n",
              "      <td>1993-08-08</td>\n",
              "    </tr>\n",
              "    <tr>\n",
              "      <th>4</th>\n",
              "      <td>5</td>\n",
              "      <td>Argentina</td>\n",
              "      <td>0.0</td>\n",
              "      <td>51</td>\n",
              "      <td>5</td>\n",
              "      <td>1993-08-08</td>\n",
              "    </tr>\n",
              "  </tbody>\n",
              "</table>\n",
              "</div>"
            ],
            "text/plain": [
              "   rank country_full  total_points  previous_points  rank_change   rank_date\n",
              "0     1      Germany           0.0               57            0  1993-08-08\n",
              "1     2        Italy           0.0               57            0  1993-08-08\n",
              "2     3  Switzerland           0.0               50            9  1993-08-08\n",
              "3     4       Sweden           0.0               55            0  1993-08-08\n",
              "4     5    Argentina           0.0               51            5  1993-08-08"
            ]
          },
          "metadata": {
            "tags": []
          },
          "execution_count": 161
        }
      ]
    },
    {
      "cell_type": "code",
      "metadata": {
        "id": "104fcDe5ngQm"
      },
      "source": [
        "# Renaming the country column \n",
        "fifa.rename({'country_full': 'country'}, axis = 1, inplace = True)"
      ],
      "execution_count": 162,
      "outputs": []
    },
    {
      "cell_type": "code",
      "metadata": {
        "id": "0LvPPFuktRQ2"
      },
      "source": [
        "# Locating the year from the rank date \n",
        "fifa.rank_date = pd.to_datetime(fifa.rank_date)\n",
        "fifa['year'] = fifa.rank_date.dt.year\n",
        "fifa['month'] = fifa.rank_date.dt.month"
      ],
      "execution_count": 163,
      "outputs": []
    },
    {
      "cell_type": "code",
      "metadata": {
        "id": "vAt858SXuY4g"
      },
      "source": [
        "# Then dropping the rank date column\n",
        "fifa.drop(['rank_date'], axis=1, inplace=True)"
      ],
      "execution_count": 164,
      "outputs": []
    },
    {
      "cell_type": "code",
      "metadata": {
        "colab": {
          "base_uri": "https://localhost:8080/",
          "height": 204
        },
        "id": "SSwA0VA3mwAP",
        "outputId": "06dd62f7-46f0-40ec-efb5-88fb3b9b4b82"
      },
      "source": [
        "# Results Dataset\n",
        "# Changing column names to upper case and placing underscore to make the column names uniform in the results dataset\n",
        "results.columns = results.columns.str.strip().str.lower().str.replace(' ', '_').str.replace('(', '').str.replace(')', '')\n",
        "results.head(5)"
      ],
      "execution_count": 165,
      "outputs": [
        {
          "output_type": "execute_result",
          "data": {
            "text/html": [
              "<div>\n",
              "<style scoped>\n",
              "    .dataframe tbody tr th:only-of-type {\n",
              "        vertical-align: middle;\n",
              "    }\n",
              "\n",
              "    .dataframe tbody tr th {\n",
              "        vertical-align: top;\n",
              "    }\n",
              "\n",
              "    .dataframe thead th {\n",
              "        text-align: right;\n",
              "    }\n",
              "</style>\n",
              "<table border=\"1\" class=\"dataframe\">\n",
              "  <thead>\n",
              "    <tr style=\"text-align: right;\">\n",
              "      <th></th>\n",
              "      <th>date</th>\n",
              "      <th>home_team</th>\n",
              "      <th>away_team</th>\n",
              "      <th>home_score</th>\n",
              "      <th>away_score</th>\n",
              "      <th>tournament</th>\n",
              "      <th>country</th>\n",
              "      <th>neutral</th>\n",
              "    </tr>\n",
              "  </thead>\n",
              "  <tbody>\n",
              "    <tr>\n",
              "      <th>0</th>\n",
              "      <td>1872-11-30</td>\n",
              "      <td>Scotland</td>\n",
              "      <td>England</td>\n",
              "      <td>0</td>\n",
              "      <td>0</td>\n",
              "      <td>Friendly</td>\n",
              "      <td>Scotland</td>\n",
              "      <td>False</td>\n",
              "    </tr>\n",
              "    <tr>\n",
              "      <th>1</th>\n",
              "      <td>1873-03-08</td>\n",
              "      <td>England</td>\n",
              "      <td>Scotland</td>\n",
              "      <td>4</td>\n",
              "      <td>2</td>\n",
              "      <td>Friendly</td>\n",
              "      <td>England</td>\n",
              "      <td>False</td>\n",
              "    </tr>\n",
              "    <tr>\n",
              "      <th>2</th>\n",
              "      <td>1874-03-07</td>\n",
              "      <td>Scotland</td>\n",
              "      <td>England</td>\n",
              "      <td>2</td>\n",
              "      <td>1</td>\n",
              "      <td>Friendly</td>\n",
              "      <td>Scotland</td>\n",
              "      <td>False</td>\n",
              "    </tr>\n",
              "    <tr>\n",
              "      <th>3</th>\n",
              "      <td>1875-03-06</td>\n",
              "      <td>England</td>\n",
              "      <td>Scotland</td>\n",
              "      <td>2</td>\n",
              "      <td>2</td>\n",
              "      <td>Friendly</td>\n",
              "      <td>England</td>\n",
              "      <td>False</td>\n",
              "    </tr>\n",
              "    <tr>\n",
              "      <th>4</th>\n",
              "      <td>1876-03-04</td>\n",
              "      <td>Scotland</td>\n",
              "      <td>England</td>\n",
              "      <td>3</td>\n",
              "      <td>0</td>\n",
              "      <td>Friendly</td>\n",
              "      <td>Scotland</td>\n",
              "      <td>False</td>\n",
              "    </tr>\n",
              "  </tbody>\n",
              "</table>\n",
              "</div>"
            ],
            "text/plain": [
              "         date home_team away_team  ...  tournament   country neutral\n",
              "0  1872-11-30  Scotland   England  ...    Friendly  Scotland   False\n",
              "1  1873-03-08   England  Scotland  ...    Friendly   England   False\n",
              "2  1874-03-07  Scotland   England  ...    Friendly  Scotland   False\n",
              "3  1875-03-06   England  Scotland  ...    Friendly   England   False\n",
              "4  1876-03-04  Scotland   England  ...    Friendly  Scotland   False\n",
              "\n",
              "[5 rows x 8 columns]"
            ]
          },
          "metadata": {
            "tags": []
          },
          "execution_count": 165
        }
      ]
    },
    {
      "cell_type": "code",
      "metadata": {
        "id": "fWXpzU2YuuOa"
      },
      "source": [
        "# Locating the year from the date column\n",
        "results.date = pd.to_datetime(results.date)\n",
        "results['year'] = results.date.dt.year\n",
        "results['month'] = results.date.dt.month"
      ],
      "execution_count": 166,
      "outputs": []
    },
    {
      "cell_type": "code",
      "metadata": {
        "id": "qx6jMQk3z4Ec"
      },
      "source": [
        "# After previewing the dataset, we notice that the fifa ranking dataset started in 1993\n",
        "# therefore we can drop all the data before 1993 in the results dataset\n",
        "results = results[results['date'] >= '1993']"
      ],
      "execution_count": 167,
      "outputs": []
    },
    {
      "cell_type": "code",
      "metadata": {
        "id": "bpZM0oBbvGe5"
      },
      "source": [
        "# Then dropping the date column\n",
        "results.drop(['date'], axis=1, inplace=True)"
      ],
      "execution_count": 168,
      "outputs": []
    },
    {
      "cell_type": "code",
      "metadata": {
        "colab": {
          "base_uri": "https://localhost:8080/",
          "height": 49
        },
        "id": "ufmwizmfwDaw",
        "outputId": "e2284842-a2b7-445d-9d44-532265d20d97"
      },
      "source": [
        "# Previewing the fifa dataset before merging\n",
        "fifa.head(0)"
      ],
      "execution_count": 169,
      "outputs": [
        {
          "output_type": "execute_result",
          "data": {
            "text/html": [
              "<div>\n",
              "<style scoped>\n",
              "    .dataframe tbody tr th:only-of-type {\n",
              "        vertical-align: middle;\n",
              "    }\n",
              "\n",
              "    .dataframe tbody tr th {\n",
              "        vertical-align: top;\n",
              "    }\n",
              "\n",
              "    .dataframe thead th {\n",
              "        text-align: right;\n",
              "    }\n",
              "</style>\n",
              "<table border=\"1\" class=\"dataframe\">\n",
              "  <thead>\n",
              "    <tr style=\"text-align: right;\">\n",
              "      <th></th>\n",
              "      <th>rank</th>\n",
              "      <th>country</th>\n",
              "      <th>total_points</th>\n",
              "      <th>previous_points</th>\n",
              "      <th>rank_change</th>\n",
              "      <th>year</th>\n",
              "      <th>month</th>\n",
              "    </tr>\n",
              "  </thead>\n",
              "  <tbody>\n",
              "  </tbody>\n",
              "</table>\n",
              "</div>"
            ],
            "text/plain": [
              "Empty DataFrame\n",
              "Columns: [rank, country, total_points, previous_points, rank_change, year, month]\n",
              "Index: []"
            ]
          },
          "metadata": {
            "tags": []
          },
          "execution_count": 169
        }
      ]
    },
    {
      "cell_type": "code",
      "metadata": {
        "colab": {
          "base_uri": "https://localhost:8080/",
          "height": 49
        },
        "id": "Hdfiki4iwH2d",
        "outputId": "39f8b52b-a4c8-4b58-e9ed-0d7d525c8ca1"
      },
      "source": [
        "# Previewing the results dataset\n",
        "results.head(0)"
      ],
      "execution_count": 170,
      "outputs": [
        {
          "output_type": "execute_result",
          "data": {
            "text/html": [
              "<div>\n",
              "<style scoped>\n",
              "    .dataframe tbody tr th:only-of-type {\n",
              "        vertical-align: middle;\n",
              "    }\n",
              "\n",
              "    .dataframe tbody tr th {\n",
              "        vertical-align: top;\n",
              "    }\n",
              "\n",
              "    .dataframe thead th {\n",
              "        text-align: right;\n",
              "    }\n",
              "</style>\n",
              "<table border=\"1\" class=\"dataframe\">\n",
              "  <thead>\n",
              "    <tr style=\"text-align: right;\">\n",
              "      <th></th>\n",
              "      <th>home_team</th>\n",
              "      <th>away_team</th>\n",
              "      <th>home_score</th>\n",
              "      <th>away_score</th>\n",
              "      <th>tournament</th>\n",
              "      <th>country</th>\n",
              "      <th>neutral</th>\n",
              "      <th>year</th>\n",
              "      <th>month</th>\n",
              "    </tr>\n",
              "  </thead>\n",
              "  <tbody>\n",
              "  </tbody>\n",
              "</table>\n",
              "</div>"
            ],
            "text/plain": [
              "Empty DataFrame\n",
              "Columns: [home_team, away_team, home_score, away_score, tournament, country, neutral, year, month]\n",
              "Index: []"
            ]
          },
          "metadata": {
            "tags": []
          },
          "execution_count": 170
        }
      ]
    },
    {
      "cell_type": "markdown",
      "metadata": {
        "id": "EgUMhOAnoqju"
      },
      "source": [
        "# 5.0 Merging the Datasets"
      ]
    },
    {
      "cell_type": "code",
      "metadata": {
        "id": "-WLqgU_oothY"
      },
      "source": [
        "# Lets now merge the two datasets using the home team and away team \n",
        "# so as to create home team rank and away team rank columns"
      ],
      "execution_count": 171,
      "outputs": []
    },
    {
      "cell_type": "code",
      "metadata": {
        "colab": {
          "base_uri": "https://localhost:8080/",
          "height": 80
        },
        "id": "Hgo0aFSsvulz",
        "outputId": "6701c988-0f1a-4634-bd9e-d600e1aae49f"
      },
      "source": [
        "# We create a dataframe to get the home rank\n",
        "home_rank = pd.merge(fifa, results, left_on= ['year','month','country'], right_on= ['year','month','home_team'], how='inner')\n",
        "\n",
        "# We then drop the unnecessary columns\n",
        "home_rank.drop(['country_x','rank_change'], axis=1, inplace=True)\n",
        "\n",
        "# Rename the country column and the rank to home team rank\n",
        "home_rank.rename({'country_y':'country'}, axis=1, inplace=True)\n",
        "home_rank.rename({'rank':'home_team_rank'}, axis=1, inplace=True)\n",
        "\n",
        "# Preview the home rank dataset\n",
        "home_rank.head(1)"
      ],
      "execution_count": 172,
      "outputs": [
        {
          "output_type": "execute_result",
          "data": {
            "text/html": [
              "<div>\n",
              "<style scoped>\n",
              "    .dataframe tbody tr th:only-of-type {\n",
              "        vertical-align: middle;\n",
              "    }\n",
              "\n",
              "    .dataframe tbody tr th {\n",
              "        vertical-align: top;\n",
              "    }\n",
              "\n",
              "    .dataframe thead th {\n",
              "        text-align: right;\n",
              "    }\n",
              "</style>\n",
              "<table border=\"1\" class=\"dataframe\">\n",
              "  <thead>\n",
              "    <tr style=\"text-align: right;\">\n",
              "      <th></th>\n",
              "      <th>home_team_rank</th>\n",
              "      <th>total_points</th>\n",
              "      <th>previous_points</th>\n",
              "      <th>year</th>\n",
              "      <th>month</th>\n",
              "      <th>home_team</th>\n",
              "      <th>away_team</th>\n",
              "      <th>home_score</th>\n",
              "      <th>away_score</th>\n",
              "      <th>tournament</th>\n",
              "      <th>country</th>\n",
              "      <th>neutral</th>\n",
              "    </tr>\n",
              "  </thead>\n",
              "  <tbody>\n",
              "    <tr>\n",
              "      <th>0</th>\n",
              "      <td>4</td>\n",
              "      <td>0.0</td>\n",
              "      <td>55</td>\n",
              "      <td>1993</td>\n",
              "      <td>8</td>\n",
              "      <td>Sweden</td>\n",
              "      <td>Switzerland</td>\n",
              "      <td>1</td>\n",
              "      <td>2</td>\n",
              "      <td>Friendly</td>\n",
              "      <td>Sweden</td>\n",
              "      <td>False</td>\n",
              "    </tr>\n",
              "  </tbody>\n",
              "</table>\n",
              "</div>"
            ],
            "text/plain": [
              "   home_team_rank  total_points  previous_points  ...  tournament  country neutral\n",
              "0               4           0.0               55  ...    Friendly   Sweden   False\n",
              "\n",
              "[1 rows x 12 columns]"
            ]
          },
          "metadata": {
            "tags": []
          },
          "execution_count": 172
        }
      ]
    },
    {
      "cell_type": "code",
      "metadata": {
        "colab": {
          "base_uri": "https://localhost:8080/",
          "height": 80
        },
        "id": "K89DqaXdywmw",
        "outputId": "9637a2fa-1db9-48a2-d0f2-c279841737ac"
      },
      "source": [
        "# We create a dataframe to get the away rank\n",
        "away_rank = pd.merge(fifa, results, left_on= ['year','month','country'], right_on= ['year','month','away_team'], how='inner')\n",
        "away_rank.head(1)\n",
        "# We then drop the unnecessary columns\n",
        "away_rank.drop(['country_x','rank_change'], axis=1, inplace=True)\n",
        "\n",
        "# Rename the country column and the rank to home team rank\n",
        "away_rank.rename({'country_y':'country'}, axis=1, inplace=True)\n",
        "away_rank.rename({'rank':'away_team_rank'}, axis=1, inplace=True)\n",
        "\n",
        "# Preview the home rank dataset\n",
        "away_rank.head(1)"
      ],
      "execution_count": 173,
      "outputs": [
        {
          "output_type": "execute_result",
          "data": {
            "text/html": [
              "<div>\n",
              "<style scoped>\n",
              "    .dataframe tbody tr th:only-of-type {\n",
              "        vertical-align: middle;\n",
              "    }\n",
              "\n",
              "    .dataframe tbody tr th {\n",
              "        vertical-align: top;\n",
              "    }\n",
              "\n",
              "    .dataframe thead th {\n",
              "        text-align: right;\n",
              "    }\n",
              "</style>\n",
              "<table border=\"1\" class=\"dataframe\">\n",
              "  <thead>\n",
              "    <tr style=\"text-align: right;\">\n",
              "      <th></th>\n",
              "      <th>away_team_rank</th>\n",
              "      <th>total_points</th>\n",
              "      <th>previous_points</th>\n",
              "      <th>year</th>\n",
              "      <th>month</th>\n",
              "      <th>home_team</th>\n",
              "      <th>away_team</th>\n",
              "      <th>home_score</th>\n",
              "      <th>away_score</th>\n",
              "      <th>tournament</th>\n",
              "      <th>country</th>\n",
              "      <th>neutral</th>\n",
              "    </tr>\n",
              "  </thead>\n",
              "  <tbody>\n",
              "    <tr>\n",
              "      <th>0</th>\n",
              "      <td>3</td>\n",
              "      <td>0.0</td>\n",
              "      <td>50</td>\n",
              "      <td>1993</td>\n",
              "      <td>8</td>\n",
              "      <td>Sweden</td>\n",
              "      <td>Switzerland</td>\n",
              "      <td>1</td>\n",
              "      <td>2</td>\n",
              "      <td>Friendly</td>\n",
              "      <td>Sweden</td>\n",
              "      <td>False</td>\n",
              "    </tr>\n",
              "  </tbody>\n",
              "</table>\n",
              "</div>"
            ],
            "text/plain": [
              "   away_team_rank  total_points  previous_points  ...  tournament  country neutral\n",
              "0               3           0.0               50  ...    Friendly   Sweden   False\n",
              "\n",
              "[1 rows x 12 columns]"
            ]
          },
          "metadata": {
            "tags": []
          },
          "execution_count": 173
        }
      ]
    },
    {
      "cell_type": "code",
      "metadata": {
        "colab": {
          "base_uri": "https://localhost:8080/",
          "height": 49
        },
        "id": "Lt0Cdh1P4WCC",
        "outputId": "6458af4d-36b3-48e6-de38-6e062add227e"
      },
      "source": [
        "# Lets merge the two datasets to get a general dataset that has both the home rank and away rank\n",
        "fifa_results = pd.merge(home_rank, away_rank, how = 'inner', left_on = ['year','month','away_team'], right_on = ['year','month','away_team'])\n",
        "fifa_results.head()\n",
        "\n",
        "# Lets drop the redundant columns \n",
        "fifa_results.drop(['total_points_x','previous_points_x','home_team_x','tournament_x','country_x','neutral_x','home_score_x','away_score_x'], axis = 1, inplace=True)\n",
        "\n",
        "# Lets also rename the remaining columns\n",
        "fifa_results.rename({'total_points_y':'total_points'}, axis = 1, inplace=True)\n",
        "fifa_results.rename({'previous_points_y':'previous_points'}, axis = 1, inplace=True)\n",
        "fifa_results.rename({'home_team_y':'home_team'}, axis = 1, inplace=True)\n",
        "fifa_results.rename({'away_score_y':'away_score'}, axis = 1, inplace=True)\n",
        "fifa_results.rename({'home_score_y':'home_score'}, axis = 1, inplace=True)\n",
        "fifa_results.rename({'tournament_y':'tournament'}, axis = 1, inplace=True)\n",
        "fifa_results.rename({'country_y':'country'}, axis = 1, inplace=True)\n",
        "fifa_results.rename({'neutral_y':'neutral'}, axis = 1, inplace=True)\n",
        "\n",
        "fifa_results.head(0)"
      ],
      "execution_count": 174,
      "outputs": [
        {
          "output_type": "execute_result",
          "data": {
            "text/html": [
              "<div>\n",
              "<style scoped>\n",
              "    .dataframe tbody tr th:only-of-type {\n",
              "        vertical-align: middle;\n",
              "    }\n",
              "\n",
              "    .dataframe tbody tr th {\n",
              "        vertical-align: top;\n",
              "    }\n",
              "\n",
              "    .dataframe thead th {\n",
              "        text-align: right;\n",
              "    }\n",
              "</style>\n",
              "<table border=\"1\" class=\"dataframe\">\n",
              "  <thead>\n",
              "    <tr style=\"text-align: right;\">\n",
              "      <th></th>\n",
              "      <th>home_team_rank</th>\n",
              "      <th>year</th>\n",
              "      <th>month</th>\n",
              "      <th>away_team</th>\n",
              "      <th>away_team_rank</th>\n",
              "      <th>total_points</th>\n",
              "      <th>previous_points</th>\n",
              "      <th>home_team</th>\n",
              "      <th>home_score</th>\n",
              "      <th>away_score</th>\n",
              "      <th>tournament</th>\n",
              "      <th>country</th>\n",
              "      <th>neutral</th>\n",
              "    </tr>\n",
              "  </thead>\n",
              "  <tbody>\n",
              "  </tbody>\n",
              "</table>\n",
              "</div>"
            ],
            "text/plain": [
              "Empty DataFrame\n",
              "Columns: [home_team_rank, year, month, away_team, away_team_rank, total_points, previous_points, home_team, home_score, away_score, tournament, country, neutral]\n",
              "Index: []"
            ]
          },
          "metadata": {
            "tags": []
          },
          "execution_count": 174
        }
      ]
    },
    {
      "cell_type": "markdown",
      "metadata": {
        "id": "IO9UIw-4mymr"
      },
      "source": [
        "# 6.0 Exploratory Data Analysis"
      ]
    },
    {
      "cell_type": "markdown",
      "metadata": {
        "id": "rrPVT-dvm18Q"
      },
      "source": [
        "## 6.1 Univariate Data Analysis"
      ]
    },
    {
      "cell_type": "markdown",
      "metadata": {
        "id": "MT8L54ZPnj0u"
      },
      "source": [
        "### 6.1.1 Categorical Variables"
      ]
    },
    {
      "cell_type": "markdown",
      "metadata": {
        "id": "oQyb-O0tnoRE"
      },
      "source": [
        "> #### i) Frequency Tables"
      ]
    },
    {
      "cell_type": "code",
      "metadata": {
        "colab": {
          "base_uri": "https://localhost:8080/"
        },
        "id": "AyC_7mLEnr9K",
        "outputId": "b30f3f38-d11c-43eb-c9ec-2aa2c61e3a0d"
      },
      "source": [
        "# Frequency Tables\n",
        "country = fifa_results.country.value_counts()\n",
        "print(\"The frequency table of countries is: \\n\", country)\n",
        "print(\"\\n\")\n",
        "\n",
        "tournament = fifa_results.tournament.value_counts()\n",
        "print(\"The frequency table of the confederations is: \\n\", tournament)\n",
        "print(\"\\n\")\n",
        "\n",
        "home = fifa_results.home_team.value_counts()\n",
        "print(\"The frequency table of home teams: \\n\", home)\n",
        "print(\"\\n\")\n",
        "\n",
        "away = fifa_results.away_team.value_counts()\n",
        "print(\"The frequency table of the away teams: \\n\", away)\n",
        "print(\"\\n\")\n",
        "\n",
        "tournament = fifa_results.tournament.value_counts()\n",
        "print(\"The frequency table of the type of tournament: \\n\", tournament)\n",
        "print(\"\\n\")\n",
        "\n",
        "neutral = fifa_results.neutral.value_counts()\n",
        "print(\"The frequency table of the neutral venues: \\n\", neutral)"
      ],
      "execution_count": 175,
      "outputs": [
        {
          "output_type": "stream",
          "text": [
            "The frequency table of countries is: \n",
            " United States               1249\n",
            "South Africa                 637\n",
            "Qatar                        563\n",
            "United Arab Emirates         533\n",
            "France                       521\n",
            "                            ... \n",
            "Yugoslavia                     1\n",
            "Zanzibar                       1\n",
            "Sint Maarten                   1\n",
            "Zaïre                          1\n",
            "Turks and Caicos Islands       1\n",
            "Name: country, Length: 222, dtype: int64\n",
            "\n",
            "\n",
            "The frequency table of the confederations is: \n",
            " Friendly                                10259\n",
            "FIFA World Cup qualification             5378\n",
            "UEFA Euro qualification                  1629\n",
            "African Cup of Nations qualification     1063\n",
            "CECAFA Cup                                760\n",
            "                                        ...  \n",
            "Windward Islands Tournament                 7\n",
            "SKN Football Festival                       6\n",
            "Dragon Cup                                  6\n",
            "Copa del Pacífico                           4\n",
            "Copa América qualification                  2\n",
            "Name: tournament, Length: 65, dtype: int64\n",
            "\n",
            "\n",
            "The frequency table of home teams: \n",
            " Saudi Arabia             445\n",
            "Mexico                   436\n",
            "Oman                     374\n",
            "Qatar                    368\n",
            "United Arab Emirates     343\n",
            "                        ... \n",
            "Andalusia                  1\n",
            "Réunion                    1\n",
            "Galicia                    1\n",
            "Silesia                    1\n",
            "St. Pierre & Miquelon      1\n",
            "Name: home_team, Length: 229, dtype: int64\n",
            "\n",
            "\n",
            "The frequency table of the away teams: \n",
            " Saudi Arabia                389\n",
            "Zambia                      375\n",
            "Syria                       327\n",
            "Iraq                        310\n",
            "Uganda                      307\n",
            "                           ... \n",
            "South Sudan                  19\n",
            "Turks and Caicos Islands     10\n",
            "Montserrat                    8\n",
            "Gibraltar                     6\n",
            "Kosovo                        6\n",
            "Name: away_team, Length: 193, dtype: int64\n",
            "\n",
            "\n",
            "The frequency table of the type of tournament: \n",
            " Friendly                                10259\n",
            "FIFA World Cup qualification             5378\n",
            "UEFA Euro qualification                  1629\n",
            "African Cup of Nations qualification     1063\n",
            "CECAFA Cup                                760\n",
            "                                        ...  \n",
            "Windward Islands Tournament                 7\n",
            "SKN Football Festival                       6\n",
            "Dragon Cup                                  6\n",
            "Copa del Pacífico                           4\n",
            "Copa América qualification                  2\n",
            "Name: tournament, Length: 65, dtype: int64\n",
            "\n",
            "\n",
            "The frequency table of the neutral venues: \n",
            " False    19277\n",
            "True      9162\n",
            "Name: neutral, dtype: int64\n"
          ],
          "name": "stdout"
        }
      ]
    },
    {
      "cell_type": "markdown",
      "metadata": {
        "id": "vv0bt_qrqXjX"
      },
      "source": [
        "> #### ii) Pie Charts"
      ]
    },
    {
      "cell_type": "code",
      "metadata": {
        "colab": {
          "base_uri": "https://localhost:8080/",
          "height": 411
        },
        "id": "kr8eZXTnpfuH",
        "outputId": "c972200e-74e9-43c6-f153-32e3063111a4"
      },
      "source": [
        "# Pie chart of the matches played in neutral venues\n",
        "fifa_results['neutral'].value_counts().plot(kind='pie', autopct='%1.1f%%', startangle=140)\n",
        "fig=plt.gcf()\n",
        "fig.set_size_inches(6,6)\n",
        "plt.axis('equal')\n",
        "plt.legend(loc='upper right')\n",
        "plt.title('Pie Chart of Neutral Venues', y=1.1)\n",
        "plt.show()"
      ],
      "execution_count": 176,
      "outputs": [
        {
          "output_type": "display_data",
          "data": {
            "image/png": "[encoded data removed]",
            "text/plain": [
              "<Figure size 432x432 with 1 Axes>"
            ]
          },
          "metadata": {
            "tags": []
          }
        }
      ]
    },
    {
      "cell_type": "markdown",
      "metadata": {
        "id": "iC8UHAtrrsen"
      },
      "source": [
        "**Majority of matches from 1993 were not played in neutral venues.**"
      ]
    },
    {
      "cell_type": "markdown",
      "metadata": {
        "id": "3BlPNVyKtf50"
      },
      "source": [
        "### 6.1.2 Numerical Variables"
      ]
    },
    {
      "cell_type": "markdown",
      "metadata": {
        "id": "_Cc3J-Fdu45F"
      },
      "source": [
        "> #### i) Measures of central tendency"
      ]
    },
    {
      "cell_type": "code",
      "metadata": {
        "colab": {
          "base_uri": "https://localhost:8080/"
        },
        "id": "PpUhFBYSs1HK",
        "outputId": "809259ab-4792-484b-f7ec-edff647c4167"
      },
      "source": [
        "# Mean \n",
        "home_mean = fifa_results['home_score'].mean()\n",
        "print(\"The average home score is: \", home_mean)\n",
        "print('\\n')\n",
        "\n",
        "away_mean = fifa_results['away_score'].mean()\n",
        "print(\"The average away score is: \", away_mean)\n",
        "print('\\n')\n"
      ],
      "execution_count": 177,
      "outputs": [
        {
          "output_type": "stream",
          "text": [
            "The average home score is:  1.5982629487675375\n",
            "\n",
            "\n",
            "The average away score is:  1.1081964907345547\n",
            "\n",
            "\n"
          ],
          "name": "stdout"
        }
      ]
    },
    {
      "cell_type": "code",
      "metadata": {
        "colab": {
          "base_uri": "https://localhost:8080/"
        },
        "id": "Vlc6k04ixHO4",
        "outputId": "e0daf329-2c37-4d83-a55a-d39606bdb307"
      },
      "source": [
        "# Mode \n",
        "home_mode = fifa_results['home_score'].mode()\n",
        "print(\"The mode of the home score is: \", home_mode)\n",
        "print('\\n')\n",
        "\n",
        "away_mode = fifa_results['away_score'].mode()\n",
        "print(\"The mode of the away score is: \", away_mode)\n",
        "print('\\n')"
      ],
      "execution_count": 178,
      "outputs": [
        {
          "output_type": "stream",
          "text": [
            "The mode of the home score is:  0    1\n",
            "dtype: int64\n",
            "\n",
            "\n",
            "The mode of the away score is:  0    0\n",
            "dtype: int64\n",
            "\n",
            "\n"
          ],
          "name": "stdout"
        }
      ]
    },
    {
      "cell_type": "code",
      "metadata": {
        "colab": {
          "base_uri": "https://localhost:8080/"
        },
        "id": "D7mhNEkMx4aK",
        "outputId": "b90fa0a0-7e56-4a5f-b77b-bc9040cc4a1f"
      },
      "source": [
        "# Median\n",
        "home_median = fifa_results['home_score'].median()\n",
        "print(\"The median of the home score is: \", home_median)\n",
        "print('\\n')\n",
        "\n",
        "away_median = fifa_results['away_score'].median()\n",
        "print(\"The median of the away score is: \", away_median)\n",
        "print('\\n')"
      ],
      "execution_count": 179,
      "outputs": [
        {
          "output_type": "stream",
          "text": [
            "The median of the home score is:  1.0\n",
            "\n",
            "\n",
            "The median of the away score is:  1.0\n",
            "\n",
            "\n"
          ],
          "name": "stdout"
        }
      ]
    },
    {
      "cell_type": "markdown",
      "metadata": {
        "id": "8RiJk73AyY-i"
      },
      "source": [
        "#### ii) Measures of Dispersion"
      ]
    },
    {
      "cell_type": "code",
      "metadata": {
        "colab": {
          "base_uri": "https://localhost:8080/"
        },
        "id": "AIKvSnzoyc6I",
        "outputId": "e8c554c4-37dc-479a-932d-e8f2681db9f3"
      },
      "source": [
        "# Standard Deviation\n",
        "fifa_results.std()"
      ],
      "execution_count": 180,
      "outputs": [
        {
          "output_type": "execute_result",
          "data": {
            "text/plain": [
              "home_team_rank      51.097232\n",
              "year                 6.844128\n",
              "month                3.357881\n",
              "away_team_rank      52.575171\n",
              "total_points       295.961148\n",
              "previous_points    313.159775\n",
              "home_score           1.638995\n",
              "away_score           1.311873\n",
              "neutral              0.467313\n",
              "dtype: float64"
            ]
          },
          "metadata": {
            "tags": []
          },
          "execution_count": 180
        }
      ]
    },
    {
      "cell_type": "code",
      "metadata": {
        "colab": {
          "base_uri": "https://localhost:8080/"
        },
        "id": "3VfAJb-cyh3b",
        "outputId": "71851dda-b970-41a8-fb69-fa35caa4bf7c"
      },
      "source": [
        "# Variance\n",
        "fifa_results.var()"
      ],
      "execution_count": 181,
      "outputs": [
        {
          "output_type": "execute_result",
          "data": {
            "text/plain": [
              "home_team_rank      2610.927133\n",
              "year                  46.842089\n",
              "month                 11.275362\n",
              "away_team_rank      2764.148577\n",
              "total_points       87593.000931\n",
              "previous_points    98069.044495\n",
              "home_score             2.686305\n",
              "away_score             1.721010\n",
              "neutral                0.218382\n",
              "dtype: float64"
            ]
          },
          "metadata": {
            "tags": []
          },
          "execution_count": 181
        }
      ]
    },
    {
      "cell_type": "code",
      "metadata": {
        "colab": {
          "base_uri": "https://localhost:8080/",
          "height": 142
        },
        "id": "yOmnhSa8zDhL",
        "outputId": "6dd7f127-ca14-44f8-9b79-1b35fdf607d5"
      },
      "source": [
        "# Quantiles\n",
        "fifa_results[['home_score','away_score']].quantile([0.25,0.50,0.75])"
      ],
      "execution_count": 182,
      "outputs": [
        {
          "output_type": "execute_result",
          "data": {
            "text/html": [
              "<div>\n",
              "<style scoped>\n",
              "    .dataframe tbody tr th:only-of-type {\n",
              "        vertical-align: middle;\n",
              "    }\n",
              "\n",
              "    .dataframe tbody tr th {\n",
              "        vertical-align: top;\n",
              "    }\n",
              "\n",
              "    .dataframe thead th {\n",
              "        text-align: right;\n",
              "    }\n",
              "</style>\n",
              "<table border=\"1\" class=\"dataframe\">\n",
              "  <thead>\n",
              "    <tr style=\"text-align: right;\">\n",
              "      <th></th>\n",
              "      <th>home_score</th>\n",
              "      <th>away_score</th>\n",
              "    </tr>\n",
              "  </thead>\n",
              "  <tbody>\n",
              "    <tr>\n",
              "      <th>0.25</th>\n",
              "      <td>0.0</td>\n",
              "      <td>0.0</td>\n",
              "    </tr>\n",
              "    <tr>\n",
              "      <th>0.50</th>\n",
              "      <td>1.0</td>\n",
              "      <td>1.0</td>\n",
              "    </tr>\n",
              "    <tr>\n",
              "      <th>0.75</th>\n",
              "      <td>2.0</td>\n",
              "      <td>2.0</td>\n",
              "    </tr>\n",
              "  </tbody>\n",
              "</table>\n",
              "</div>"
            ],
            "text/plain": [
              "      home_score  away_score\n",
              "0.25         0.0         0.0\n",
              "0.50         1.0         1.0\n",
              "0.75         2.0         2.0"
            ]
          },
          "metadata": {
            "tags": []
          },
          "execution_count": 182
        }
      ]
    },
    {
      "cell_type": "code",
      "metadata": {
        "colab": {
          "base_uri": "https://localhost:8080/"
        },
        "id": "5ES7oiCzz1TQ",
        "outputId": "75f335ee-dc0b-4851-cd39-4ed3466155c3"
      },
      "source": [
        "# Range\n",
        "max = fifa_results[['home_score','away_score']].max()\n",
        "min = fifa_results[['home_score','away_score']].min()\n",
        "range = max - min\n",
        "print(\"The range within the fifa results is: \\n\", range)"
      ],
      "execution_count": 183,
      "outputs": [
        {
          "output_type": "stream",
          "text": [
            "The range within the fifa results is: \n",
            " home_score    31\n",
            "away_score    18\n",
            "dtype: int64\n"
          ],
          "name": "stdout"
        }
      ]
    },
    {
      "cell_type": "code",
      "metadata": {
        "colab": {
          "base_uri": "https://localhost:8080/"
        },
        "id": "dw-ifXG_09fq",
        "outputId": "dab10452-962a-4937-bfde-cdad7553b60a"
      },
      "source": [
        "# Kurtosis\n",
        "home_kurt = fifa_results['home_score'].kurt()\n",
        "print(\"The kurtosis of the home score is: \\n\", home_kurt)\n",
        "\n",
        "if home_kurt > 0:\n",
        "  print(\"The home score is leptokurtic\")\n",
        "elif home_kurt < 0:\n",
        "  print(\"The home score is platykurtic\")\n",
        "else:\n",
        "  print(\"The home score is mesokurtic\")\n",
        "print('\\n') \n",
        "\n",
        "away_kurt = fifa_results['away_score'].kurt()\n",
        "print(\"The kurtosis of the away score is: \\n\", away_kurt)\n",
        "\n",
        "if away_kurt > 0:\n",
        "  print(\"The away score column is leptokurtic\")\n",
        "elif away_kurt < 0:\n",
        "  print(\"The away score is platykurtic\")\n",
        "else:\n",
        "  print(\"The away score is mesokurtic\")\n",
        "print('\\n') "
      ],
      "execution_count": 184,
      "outputs": [
        {
          "output_type": "stream",
          "text": [
            "The kurtosis of the home score is: \n",
            " 18.12172739714042\n",
            "The home score is leptokurtic\n",
            "\n",
            "\n",
            "The kurtosis of the away score is: \n",
            " 11.979576292768837\n",
            "The away score column is leptokurtic\n",
            "\n",
            "\n"
          ],
          "name": "stdout"
        }
      ]
    },
    {
      "cell_type": "code",
      "metadata": {
        "colab": {
          "base_uri": "https://localhost:8080/"
        },
        "id": "BgenotHY2T4G",
        "outputId": "9c079750-e457-41d1-a553-9362257920ba"
      },
      "source": [
        "# Skewness\n",
        "home_skew = fifa_results['home_score'].skew()\n",
        "print(\"The skewness of the home score is: \\n\", home_skew)\n",
        "if home_skew == 0:\n",
        "  print(\"The distribution is symmetrical\")\n",
        "elif home_skew > 0:\n",
        "  print(\"The distribution is positively skewed\")\n",
        "else:\n",
        "  print(\"The distribution is negatively skewed\")\n",
        "print('\\n')\n",
        "\n",
        "away_skew = fifa_results['away_score'].skew()\n",
        "print(\"The skewness of the away score is: \\n\", away_skew)\n",
        "if away_skew == 0:\n",
        "  print(\"The distribution is symmetrical\")\n",
        "elif away_skew > 0:\n",
        "  print(\"The distribution is positively skewed\")\n",
        "else:\n",
        "  print(\"The distribution is negatively skewed\")\n",
        "print('\\n')"
      ],
      "execution_count": 185,
      "outputs": [
        {
          "output_type": "stream",
          "text": [
            "The skewness of the home score is: \n",
            " 2.5581694008775417\n",
            "The distribution is positively skewed\n",
            "\n",
            "\n",
            "The skewness of the away score is: \n",
            " 2.315108665073267\n",
            "The distribution is positively skewed\n",
            "\n",
            "\n"
          ],
          "name": "stdout"
        }
      ]
    },
    {
      "cell_type": "code",
      "metadata": {
        "colab": {
          "base_uri": "https://localhost:8080/"
        },
        "id": "N9b1hXRi4JU8",
        "outputId": "ade5cd12-e649-4688-c8d6-d443d2d93bf4"
      },
      "source": [
        "# Summary Statistics\n",
        "home = fifa_results['home_score'].describe().astype(str)\n",
        "print(\"The summary statistics for the home score are: \\n\", home)\n",
        "print('\\n')\n",
        "away = fifa_results['away_score'].describe().astype(str)\n",
        "print(\"The summary statistics for the away score are: \\n\", away)\n"
      ],
      "execution_count": 186,
      "outputs": [
        {
          "output_type": "stream",
          "text": [
            "The summary statistics for the home score are: \n",
            " count               28439.0\n",
            "mean     1.5982629487675375\n",
            "std      1.6389952541289845\n",
            "min                     0.0\n",
            "25%                     0.0\n",
            "50%                     1.0\n",
            "75%                     2.0\n",
            "max                    31.0\n",
            "Name: home_score, dtype: object\n",
            "\n",
            "\n",
            "The summary statistics for the away score are: \n",
            " count               28439.0\n",
            "mean     1.1081964907345547\n",
            "std       1.311872667274135\n",
            "min                     0.0\n",
            "25%                     0.0\n",
            "50%                     1.0\n",
            "75%                     2.0\n",
            "max                    18.0\n",
            "Name: away_score, dtype: object\n"
          ],
          "name": "stdout"
        }
      ]
    },
    {
      "cell_type": "markdown",
      "metadata": {
        "id": "s-zFdF1t4ICf"
      },
      "source": [
        "#### iii) Visualization Techniques"
      ]
    },
    {
      "cell_type": "code",
      "metadata": {
        "id": "-8xEM-6-61_y",
        "colab": {
          "base_uri": "https://localhost:8080/",
          "height": 297
        },
        "outputId": "e15c8f21-8fc1-4dfc-f275-559acf3a8c98"
      },
      "source": [
        "# Checking for outliers in the home scores\n",
        "sns.boxplot(fifa_results['home_score'], showmeans=True)"
      ],
      "execution_count": 187,
      "outputs": [
        {
          "output_type": "execute_result",
          "data": {
            "text/plain": [
              "<matplotlib.axes._subplots.AxesSubplot at 0x7f5e4c2cd410>"
            ]
          },
          "metadata": {
            "tags": []
          },
          "execution_count": 187
        },
        {
          "output_type": "display_data",
          "data": {
            "image/png": "[encoded data removed]",
            "text/plain": [
              "<Figure size 432x288 with 1 Axes>"
            ]
          },
          "metadata": {
            "tags": [],
            "needs_background": "light"
          }
        }
      ]
    },
    {
      "cell_type": "code",
      "metadata": {
        "colab": {
          "base_uri": "https://localhost:8080/",
          "height": 296
        },
        "id": "Hx7DE-d5F290",
        "outputId": "c0fd9b1d-4211-42bf-8357-16dafc43a926"
      },
      "source": [
        "# Checking for outliers in the away scores\n",
        "sns.boxplot(fifa_results['away_score'], showmeans=True)"
      ],
      "execution_count": 188,
      "outputs": [
        {
          "output_type": "execute_result",
          "data": {
            "text/plain": [
              "<matplotlib.axes._subplots.AxesSubplot at 0x7f5e4c298810>"
            ]
          },
          "metadata": {
            "tags": []
          },
          "execution_count": 188
        },
        {
          "output_type": "display_data",
          "data": {
            "image/png": "[encoded data removed]",
            "text/plain": [
              "<Figure size 432x288 with 1 Axes>"
            ]
          },
          "metadata": {
            "tags": [],
            "needs_background": "light"
          }
        }
      ]
    },
    {
      "cell_type": "markdown",
      "metadata": {
        "id": "Vrc1uF2mGJtX"
      },
      "source": [
        "**We will not drop any outliers because the goals scored either by the home team or away team are actual representations of the goals scored therefore they are necessary in our analysis.**"
      ]
    },
    {
      "cell_type": "markdown",
      "metadata": {
        "id": "v3fCqXbu65sH"
      },
      "source": [
        "## 6.2 Bivariate Data Analysis"
      ]
    },
    {
      "cell_type": "markdown",
      "metadata": {
        "id": "L8fyQEZ77Rl7"
      },
      "source": [
        "### 6.2.1 Numerical and Numerical Values"
      ]
    },
    {
      "cell_type": "markdown",
      "metadata": {
        "id": "25bUz89B7J_x"
      },
      "source": [
        "> #### i) Scatter Plots"
      ]
    },
    {
      "cell_type": "code",
      "metadata": {
        "colab": {
          "base_uri": "https://localhost:8080/",
          "height": 377
        },
        "id": "8NXk36Fz7IBm",
        "outputId": "4104df0a-adbe-4bd8-9f88-8aa3f2b777c6"
      },
      "source": [
        "# Scatter plot between the rank and the home goals scored\n",
        "home_rank=fifa_results.groupby('home_team_rank')['home_score'].count().reset_index(name='total number of home goals per rank')\n",
        "plt.figure(figsize=(7,5))\n",
        "plt.scatter(home_rank['home_team_rank'] , home_rank[\"total number of home goals per rank\"], color='red')\n",
        "plt.xlabel(\"Rank\")\n",
        "plt.ylabel(\"Total number of home goals per rank\")\n",
        "plt.title(\"Scatter plot of total home goals per rank\", y=1.1)\n",
        "plt.show()"
      ],
      "execution_count": 189,
      "outputs": [
        {
          "output_type": "display_data",
          "data": {
            "image/png": "[encoded data removed]",
            "text/plain": [
              "<Figure size 504x360 with 1 Axes>"
            ]
          },
          "metadata": {
            "tags": [],
            "needs_background": "light"
          }
        }
      ]
    },
    {
      "cell_type": "markdown",
      "metadata": {
        "id": "_cgQ6a1O9eun"
      },
      "source": [
        "**This scatter plot suggests that as the rank of the countries increases, the total number of home goals reduces. It makes sense since the highest ranked countries score the most home goals and the least ranked countries score the least goals.**"
      ]
    },
    {
      "cell_type": "code",
      "metadata": {
        "colab": {
          "base_uri": "https://localhost:8080/",
          "height": 377
        },
        "id": "M-2KKNJE86vg",
        "outputId": "dbfdb4b7-2702-42c3-b30f-51c68f8f85f5"
      },
      "source": [
        "# Scatter plot betwwen the rank and the number of away goals scored\n",
        "away_rank=fifa_results.groupby('away_team_rank')['away_score'].count().reset_index(name='total number of away goals per rank')\n",
        "plt.figure(figsize=(7,5))\n",
        "plt.scatter(away_rank['away_team_rank'] , away_rank[\"total number of away goals per rank\"], color = 'green')\n",
        "plt.xlabel(\"Rank\")\n",
        "plt.ylabel(\"Total number of away goals per rank\")\n",
        "plt.title(\"Scatter plot of total away goals per rank\", y=1.1)\n",
        "plt.show()"
      ],
      "execution_count": 190,
      "outputs": [
        {
          "output_type": "display_data",
          "data": {
            "image/png": "[encoded data removed]",
            "text/plain": [
              "<Figure size 504x360 with 1 Axes>"
            ]
          },
          "metadata": {
            "tags": [],
            "needs_background": "light"
          }
        }
      ]
    },
    {
      "cell_type": "markdown",
      "metadata": {
        "id": "8L6CcdJH-BQm"
      },
      "source": [
        "**This scatter plot suggests that the higher the rank, the less away goals scored by the countries.**"
      ]
    },
    {
      "cell_type": "markdown",
      "metadata": {
        "id": "BsMfZwjN_E0c"
      },
      "source": [
        "> #### ii) Correlation matrix"
      ]
    },
    {
      "cell_type": "code",
      "metadata": {
        "colab": {
          "base_uri": "https://localhost:8080/",
          "height": 672
        },
        "id": "6LUzz4CD9GFr",
        "outputId": "4c7c9d86-93c5-4e3d-894d-83d2e18b512f"
      },
      "source": [
        "# Visualization using a heatmap\n",
        "plt.figure(figsize=(12,10))\n",
        "sns.heatmap(fifa_results.corr(), annot=True)\n",
        "plt.show()"
      ],
      "execution_count": 191,
      "outputs": [
        {
          "output_type": "display_data",
          "data": {
            "image/png": "[encoded data removed]",
            "text/plain": [
              "<Figure size 864x720 with 2 Axes>"
            ]
          },
          "metadata": {
            "tags": [],
            "needs_background": "light"
          }
        }
      ]
    },
    {
      "cell_type": "markdown",
      "metadata": {
        "id": "FdtUfDBpGSPl"
      },
      "source": [
        "### 6.2.2 Categorical and Numerical Variables"
      ]
    },
    {
      "cell_type": "markdown",
      "metadata": {
        "id": "7LqZtvLQHZyt"
      },
      "source": [
        "> #### i) Z-score"
      ]
    },
    {
      "cell_type": "code",
      "metadata": {
        "id": "xCfAaAs4Dq_5",
        "colab": {
          "base_uri": "https://localhost:8080/"
        },
        "outputId": "74510502-d636-4531-bae5-3f6ea457b367"
      },
      "source": [
        "# Z-score\n",
        "from scipy import stats\n",
        "home= fifa_results['home_score']\n",
        "away= fifa_results['away_score']\n",
        "home_zscore = stats.zscore(home)\n",
        "print(\"The z score for home scores is: \\n\", home_zscore)\n",
        "print('\\n')\n",
        "\n",
        "away_zscore = stats.zscore(away)\n",
        "print(\"The z score for away scores is: \\n\", away_zscore)\n",
        "print('\\n')"
      ],
      "execution_count": 192,
      "outputs": [
        {
          "output_type": "stream",
          "text": [
            "The z score for home scores is: \n",
            " [-0.36502453 -0.36502453  0.24511609 ...  2.68567858 -0.97516515\n",
            " -0.97516515]\n",
            "\n",
            "\n",
            "The z score for away scores is: \n",
            " [ 0.67980621 -0.08247629 -0.08247629 ... -0.8447588  -0.8447588\n",
            " -0.8447588 ]\n",
            "\n",
            "\n"
          ],
          "name": "stdout"
        }
      ]
    },
    {
      "cell_type": "markdown",
      "metadata": {
        "id": "wNNY9s2fIJ73"
      },
      "source": [
        "# 7.0 Implementing the Solution"
      ]
    },
    {
      "cell_type": "markdown",
      "metadata": {
        "id": "kEOnenij8oti"
      },
      "source": [
        "## 7.1 Feature Engineering"
      ]
    },
    {
      "cell_type": "code",
      "metadata": {
        "id": "9d2f2ZNW8r_B"
      },
      "source": [
        "# Generating a status column\n",
        "# Creating a list to display the conditions of the match\n",
        "# from the home team's perspective \n",
        "conditions = [\n",
        "    (fifa_results['home_score'] > fifa_results['away_score']),\n",
        "    (fifa_results['home_score'] < fifa_results['away_score']),\n",
        "    (fifa_results['home_score'] == fifa_results['away_score'])\n",
        "    ]\n",
        "\n",
        "# Create a list of the status we want to assign for each condition\n",
        "status = ['Win', 'Lose', 'Draw']\n",
        "\n",
        "# Create a new column and use np.select to assign values to it using our lists as arguments\n",
        "fifa_results['status'] = np.select(conditions, status)"
      ],
      "execution_count": 193,
      "outputs": []
    },
    {
      "cell_type": "code",
      "metadata": {
        "id": "F5EXM31j-0ar"
      },
      "source": [
        "# Genearting a column that tells us whether the tournament was a friendly or not\n",
        "def tournament(t):\n",
        "    if t == 'Friendly':\n",
        "        return 'Friendly'\n",
        "    else:\n",
        "        return 'Not Friendly'\n",
        "      \n",
        "fifa_results['tournament_type'] = fifa_results.tournament.apply(lambda i: tournament(i))"
      ],
      "execution_count": 194,
      "outputs": []
    },
    {
      "cell_type": "code",
      "metadata": {
        "colab": {
          "base_uri": "https://localhost:8080/",
          "height": 360
        },
        "id": "B6cykrXQ_WRQ",
        "outputId": "25fc997f-9bfe-4bdd-b941-27c0ced02c99"
      },
      "source": [
        "# Previewing the dataset after adding the new features\n",
        "fifa_results.head()"
      ],
      "execution_count": 195,
      "outputs": [
        {
          "output_type": "execute_result",
          "data": {
            "text/html": [
              "<div>\n",
              "<style scoped>\n",
              "    .dataframe tbody tr th:only-of-type {\n",
              "        vertical-align: middle;\n",
              "    }\n",
              "\n",
              "    .dataframe tbody tr th {\n",
              "        vertical-align: top;\n",
              "    }\n",
              "\n",
              "    .dataframe thead th {\n",
              "        text-align: right;\n",
              "    }\n",
              "</style>\n",
              "<table border=\"1\" class=\"dataframe\">\n",
              "  <thead>\n",
              "    <tr style=\"text-align: right;\">\n",
              "      <th></th>\n",
              "      <th>home_team_rank</th>\n",
              "      <th>year</th>\n",
              "      <th>month</th>\n",
              "      <th>away_team</th>\n",
              "      <th>away_team_rank</th>\n",
              "      <th>total_points</th>\n",
              "      <th>previous_points</th>\n",
              "      <th>home_team</th>\n",
              "      <th>home_score</th>\n",
              "      <th>away_score</th>\n",
              "      <th>tournament</th>\n",
              "      <th>country</th>\n",
              "      <th>neutral</th>\n",
              "      <th>status</th>\n",
              "      <th>tournament_type</th>\n",
              "    </tr>\n",
              "  </thead>\n",
              "  <tbody>\n",
              "    <tr>\n",
              "      <th>0</th>\n",
              "      <td>4</td>\n",
              "      <td>1993</td>\n",
              "      <td>8</td>\n",
              "      <td>Switzerland</td>\n",
              "      <td>3</td>\n",
              "      <td>0.0</td>\n",
              "      <td>50</td>\n",
              "      <td>Sweden</td>\n",
              "      <td>1</td>\n",
              "      <td>2</td>\n",
              "      <td>Friendly</td>\n",
              "      <td>Sweden</td>\n",
              "      <td>False</td>\n",
              "      <td>Lose</td>\n",
              "      <td>Friendly</td>\n",
              "    </tr>\n",
              "    <tr>\n",
              "      <th>1</th>\n",
              "      <td>4</td>\n",
              "      <td>1993</td>\n",
              "      <td>8</td>\n",
              "      <td>France</td>\n",
              "      <td>12</td>\n",
              "      <td>0.0</td>\n",
              "      <td>45</td>\n",
              "      <td>Sweden</td>\n",
              "      <td>1</td>\n",
              "      <td>1</td>\n",
              "      <td>FIFA World Cup qualification</td>\n",
              "      <td>Sweden</td>\n",
              "      <td>False</td>\n",
              "      <td>Draw</td>\n",
              "      <td>Not Friendly</td>\n",
              "    </tr>\n",
              "    <tr>\n",
              "      <th>2</th>\n",
              "      <td>5</td>\n",
              "      <td>1993</td>\n",
              "      <td>8</td>\n",
              "      <td>Peru</td>\n",
              "      <td>70</td>\n",
              "      <td>0.0</td>\n",
              "      <td>16</td>\n",
              "      <td>Paraguay</td>\n",
              "      <td>2</td>\n",
              "      <td>1</td>\n",
              "      <td>FIFA World Cup qualification</td>\n",
              "      <td>Paraguay</td>\n",
              "      <td>False</td>\n",
              "      <td>Win</td>\n",
              "      <td>Not Friendly</td>\n",
              "    </tr>\n",
              "    <tr>\n",
              "      <th>3</th>\n",
              "      <td>5</td>\n",
              "      <td>1993</td>\n",
              "      <td>8</td>\n",
              "      <td>Peru</td>\n",
              "      <td>70</td>\n",
              "      <td>0.0</td>\n",
              "      <td>16</td>\n",
              "      <td>Argentina</td>\n",
              "      <td>2</td>\n",
              "      <td>1</td>\n",
              "      <td>FIFA World Cup qualification</td>\n",
              "      <td>Argentina</td>\n",
              "      <td>False</td>\n",
              "      <td>Win</td>\n",
              "      <td>Not Friendly</td>\n",
              "    </tr>\n",
              "    <tr>\n",
              "      <th>4</th>\n",
              "      <td>5</td>\n",
              "      <td>1993</td>\n",
              "      <td>8</td>\n",
              "      <td>Peru</td>\n",
              "      <td>70</td>\n",
              "      <td>0.0</td>\n",
              "      <td>16</td>\n",
              "      <td>Colombia</td>\n",
              "      <td>4</td>\n",
              "      <td>0</td>\n",
              "      <td>FIFA World Cup qualification</td>\n",
              "      <td>Colombia</td>\n",
              "      <td>False</td>\n",
              "      <td>Win</td>\n",
              "      <td>Not Friendly</td>\n",
              "    </tr>\n",
              "  </tbody>\n",
              "</table>\n",
              "</div>"
            ],
            "text/plain": [
              "   home_team_rank  year  month  ... neutral  status  tournament_type\n",
              "0               4  1993      8  ...   False    Lose         Friendly\n",
              "1               4  1993      8  ...   False    Draw     Not Friendly\n",
              "2               5  1993      8  ...   False     Win     Not Friendly\n",
              "3               5  1993      8  ...   False     Win     Not Friendly\n",
              "4               5  1993      8  ...   False     Win     Not Friendly\n",
              "\n",
              "[5 rows x 15 columns]"
            ]
          },
          "metadata": {
            "tags": []
          },
          "execution_count": 195
        }
      ]
    },
    {
      "cell_type": "markdown",
      "metadata": {
        "id": "-Ce9gSAKIPBu"
      },
      "source": [
        "## 7.2 Checking for Multicollinearity"
      ]
    },
    {
      "cell_type": "code",
      "metadata": {
        "colab": {
          "base_uri": "https://localhost:8080/",
          "height": 346
        },
        "id": "qJ0zIf5L8frH",
        "outputId": "c934ff0d-42f9-43b1-df89-d24c46e45789"
      },
      "source": [
        "# Correlation \n",
        "correlation = fifa_results.corr()\n",
        "\n",
        "# Visualizing the correlation using a heatmap\n",
        "sns.heatmap(fifa_results.corr(), annot=True)\n",
        "plt.show()"
      ],
      "execution_count": 196,
      "outputs": [
        {
          "output_type": "display_data",
          "data": {
            "image/png": "[encoded data removed]",
            "text/plain": [
              "<Figure size 432x288 with 2 Axes>"
            ]
          },
          "metadata": {
            "tags": [],
            "needs_background": "light"
          }
        }
      ]
    },
    {
      "cell_type": "code",
      "metadata": {
        "colab": {
          "base_uri": "https://localhost:8080/",
          "height": 559
        },
        "id": "IuZqhYKCAK22",
        "outputId": "288d8a66-fe03-4873-e956-2b36f65200d1"
      },
      "source": [
        "# Checking for collinearity using the VIF (Variation Inflation Factor)\n",
        "vif = pd.DataFrame(np.linalg.inv(correlation.values), index = correlation.index, columns = correlation.columns)\n",
        "\n",
        "# Visualize the VIF using a heatmap\n",
        "plt.subplots(figsize =  (10,8))\n",
        "sns.heatmap(vif, annot = True)\n",
        "plt.show()\n"
      ],
      "execution_count": 197,
      "outputs": [
        {
          "output_type": "display_data",
          "data": {
            "image/png": "[encoded data removed]",
            "text/plain": [
              "<Figure size 720x576 with 2 Axes>"
            ]
          },
          "metadata": {
            "tags": [],
            "needs_background": "light"
          }
        }
      ]
    },
    {
      "cell_type": "markdown",
      "metadata": {
        "id": "EC-BrbA2R_Xx"
      },
      "source": [
        "## 7.3 Polynomial Regression"
      ]
    },
    {
      "cell_type": "code",
      "metadata": {
        "colab": {
          "base_uri": "https://localhost:8080/",
          "height": 204
        },
        "id": "pyIs9JHmR-LE",
        "outputId": "44172075-bcd5-4ec0-d73e-16090717221c"
      },
      "source": [
        "# We first select the columns that we will use in our modelling\n",
        "fifa = fifa_results[[\"home_team\",\"away_team\",\"home_score\",\"away_score\",\"home_team_rank\",\"away_team_rank\",\"tournament_type\",\"status\"]]\n",
        "fifa.head()"
      ],
      "execution_count": 198,
      "outputs": [
        {
          "output_type": "execute_result",
          "data": {
            "text/html": [
              "<div>\n",
              "<style scoped>\n",
              "    .dataframe tbody tr th:only-of-type {\n",
              "        vertical-align: middle;\n",
              "    }\n",
              "\n",
              "    .dataframe tbody tr th {\n",
              "        vertical-align: top;\n",
              "    }\n",
              "\n",
              "    .dataframe thead th {\n",
              "        text-align: right;\n",
              "    }\n",
              "</style>\n",
              "<table border=\"1\" class=\"dataframe\">\n",
              "  <thead>\n",
              "    <tr style=\"text-align: right;\">\n",
              "      <th></th>\n",
              "      <th>home_team</th>\n",
              "      <th>away_team</th>\n",
              "      <th>home_score</th>\n",
              "      <th>away_score</th>\n",
              "      <th>home_team_rank</th>\n",
              "      <th>away_team_rank</th>\n",
              "      <th>tournament_type</th>\n",
              "      <th>status</th>\n",
              "    </tr>\n",
              "  </thead>\n",
              "  <tbody>\n",
              "    <tr>\n",
              "      <th>0</th>\n",
              "      <td>Sweden</td>\n",
              "      <td>Switzerland</td>\n",
              "      <td>1</td>\n",
              "      <td>2</td>\n",
              "      <td>4</td>\n",
              "      <td>3</td>\n",
              "      <td>Friendly</td>\n",
              "      <td>Lose</td>\n",
              "    </tr>\n",
              "    <tr>\n",
              "      <th>1</th>\n",
              "      <td>Sweden</td>\n",
              "      <td>France</td>\n",
              "      <td>1</td>\n",
              "      <td>1</td>\n",
              "      <td>4</td>\n",
              "      <td>12</td>\n",
              "      <td>Not Friendly</td>\n",
              "      <td>Draw</td>\n",
              "    </tr>\n",
              "    <tr>\n",
              "      <th>2</th>\n",
              "      <td>Paraguay</td>\n",
              "      <td>Peru</td>\n",
              "      <td>2</td>\n",
              "      <td>1</td>\n",
              "      <td>5</td>\n",
              "      <td>70</td>\n",
              "      <td>Not Friendly</td>\n",
              "      <td>Win</td>\n",
              "    </tr>\n",
              "    <tr>\n",
              "      <th>3</th>\n",
              "      <td>Argentina</td>\n",
              "      <td>Peru</td>\n",
              "      <td>2</td>\n",
              "      <td>1</td>\n",
              "      <td>5</td>\n",
              "      <td>70</td>\n",
              "      <td>Not Friendly</td>\n",
              "      <td>Win</td>\n",
              "    </tr>\n",
              "    <tr>\n",
              "      <th>4</th>\n",
              "      <td>Colombia</td>\n",
              "      <td>Peru</td>\n",
              "      <td>4</td>\n",
              "      <td>0</td>\n",
              "      <td>5</td>\n",
              "      <td>70</td>\n",
              "      <td>Not Friendly</td>\n",
              "      <td>Win</td>\n",
              "    </tr>\n",
              "  </tbody>\n",
              "</table>\n",
              "</div>"
            ],
            "text/plain": [
              "   home_team    away_team  home_score  ...  away_team_rank  tournament_type  status\n",
              "0     Sweden  Switzerland           1  ...               3         Friendly    Lose\n",
              "1     Sweden       France           1  ...              12     Not Friendly    Draw\n",
              "2   Paraguay         Peru           2  ...              70     Not Friendly     Win\n",
              "3  Argentina         Peru           2  ...              70     Not Friendly     Win\n",
              "4   Colombia         Peru           4  ...              70     Not Friendly     Win\n",
              "\n",
              "[5 rows x 8 columns]"
            ]
          },
          "metadata": {
            "tags": []
          },
          "execution_count": 198
        }
      ]
    },
    {
      "cell_type": "markdown",
      "metadata": {
        "id": "7q6sqt68DDWs"
      },
      "source": [
        "> ### Model 1 : Predicting the home score"
      ]
    },
    {
      "cell_type": "code",
      "metadata": {
        "id": "3wqRzYSKDA6S"
      },
      "source": [
        "# Locating the columns we will use\n",
        "X = fifa.iloc[:, [0,1,3,4,5,6]]\n",
        "Y = fifa.home_score"
      ],
      "execution_count": 199,
      "outputs": []
    },
    {
      "cell_type": "code",
      "metadata": {
        "id": "rgOXabW-Dtyj"
      },
      "source": [
        "# Encoding the categorical vriables using the get dummies function\n",
        "X = pd.get_dummies(X, drop_first=True)"
      ],
      "execution_count": 200,
      "outputs": []
    },
    {
      "cell_type": "code",
      "metadata": {
        "id": "TL8jazh3ENye"
      },
      "source": [
        "#Splitting the dataset into train and test sets\n",
        "\n",
        "X_train, X_test, y_train, y_test = train_test_split(X, Y, test_size = 0.3, random_state = 50)"
      ],
      "execution_count": 201,
      "outputs": []
    },
    {
      "cell_type": "code",
      "metadata": {
        "id": "xvmW9QAcEdFl"
      },
      "source": [
        "#Standardising the data to the same scale\n",
        "standard = StandardScaler()\n",
        "X_train = standard.fit_transform(X_train)\n",
        "X_test = standard.transform(X_test)"
      ],
      "execution_count": 202,
      "outputs": []
    },
    {
      "cell_type": "code",
      "metadata": {
        "id": "vMyKZWgdExRT"
      },
      "source": [
        "# Introducing polynomial features to our dataset\n",
        "poly_features = PolynomialFeatures(degree = 1)\n",
        "\n",
        "# Fit and transform the X variable to have the polynomial features\n",
        "X_train = poly_features.fit_transform(X_train)\n",
        "X_test = poly_features.fit_transform(X_test)"
      ],
      "execution_count": 203,
      "outputs": []
    },
    {
      "cell_type": "code",
      "metadata": {
        "colab": {
          "base_uri": "https://localhost:8080/"
        },
        "id": "OjrLHFRYFY8i",
        "outputId": "c0470a6b-86d3-40bd-a021-ac92fb11856a"
      },
      "source": [
        "# Training the model\n",
        "regressor = LinearRegression()\n",
        "regressor.fit(X_train, y_train)"
      ],
      "execution_count": 204,
      "outputs": [
        {
          "output_type": "execute_result",
          "data": {
            "text/plain": [
              "LinearRegression(copy_X=True, fit_intercept=True, n_jobs=None, normalize=False)"
            ]
          },
          "metadata": {
            "tags": []
          },
          "execution_count": 204
        }
      ]
    },
    {
      "cell_type": "code",
      "metadata": {
        "id": "eJcVztEGGDA9"
      },
      "source": [
        "# Making predictions\n",
        "\n",
        "y_pred = regressor.predict(X_test)"
      ],
      "execution_count": 205,
      "outputs": []
    },
    {
      "cell_type": "code",
      "metadata": {
        "colab": {
          "base_uri": "https://localhost:8080/"
        },
        "id": "KpCmuDhCGiP8",
        "outputId": "4b35c3e6-2755-418e-8a1a-a2baffe0c0df"
      },
      "source": [
        "# Measuring the accuracy of the model using the root mean square \n",
        "\n",
        "print(\"The RMSE score for the model : \", np.sqrt(mean_squared_error(y_test, y_pred)))"
      ],
      "execution_count": 206,
      "outputs": [
        {
          "output_type": "stream",
          "text": [
            "The RMSE score for the model :  1.3479937253566339\n"
          ],
          "name": "stdout"
        }
      ]
    },
    {
      "cell_type": "code",
      "metadata": {
        "colab": {
          "base_uri": "https://localhost:8080/",
          "height": 295
        },
        "id": "9BwkOthcI6ip",
        "outputId": "bc3811fa-8953-4b57-98d1-c3694edc0f73"
      },
      "source": [
        "# Plotting the residuals \n",
        "residuals = y_pred - y_test\n",
        "\n",
        "# Plotting the prediction errors\n",
        "\n",
        "plt.scatter(y_pred, residuals, color='black')\n",
        "plt.title('Residual Plot')\n",
        "plt.ylabel('residual')\n",
        "plt.xlabel('fitted values')\n",
        "plt.axhline(y= residuals.mean(), color='red')\n",
        "plt.show()"
      ],
      "execution_count": 207,
      "outputs": [
        {
          "output_type": "display_data",
          "data": {
            "image/png": "[encoded data removed]",
            "text/plain": [
              "<Figure size 432x288 with 1 Axes>"
            ]
          },
          "metadata": {
            "tags": [],
            "needs_background": "light"
          }
        }
      ]
    },
    {
      "cell_type": "markdown",
      "metadata": {
        "id": "Uwk9GQfw2p5o"
      },
      "source": [
        "> ### Model 2: Predicting the away score"
      ]
    },
    {
      "cell_type": "code",
      "metadata": {
        "id": "wjtPXIYoJI0q"
      },
      "source": [
        "# Locating the columns we will use\n",
        "X = fifa.iloc[:, [0,1,2,4,5,6]]\n",
        "Y = fifa.away_score"
      ],
      "execution_count": 208,
      "outputs": []
    },
    {
      "cell_type": "code",
      "metadata": {
        "id": "27eIksaA2x5N"
      },
      "source": [
        "# Encoding the categorical vriables using the get dummies function\n",
        "X = pd.get_dummies(X, drop_first=True)"
      ],
      "execution_count": 209,
      "outputs": []
    },
    {
      "cell_type": "code",
      "metadata": {
        "id": "zuk7b3KD2179"
      },
      "source": [
        "#Splitting the dataset into train and test sets\n",
        "\n",
        "X_train, X_test, y_train, y_test = train_test_split(X, Y, test_size = 0.3, random_state = 50)"
      ],
      "execution_count": 210,
      "outputs": []
    },
    {
      "cell_type": "code",
      "metadata": {
        "id": "3Vdp2DcQ3FM2"
      },
      "source": [
        "#Standardising the data to the same scale\n",
        "standard = StandardScaler()\n",
        "X_train = standard.fit_transform(X_train)\n",
        "X_test = standard.transform(X_test)"
      ],
      "execution_count": 211,
      "outputs": []
    },
    {
      "cell_type": "code",
      "metadata": {
        "id": "QBu4nDmv3HjZ"
      },
      "source": [
        "# Introducing polynomial features to our dataset\n",
        "poly_features = PolynomialFeatures(degree = 1)\n",
        "\n",
        "# Fit and transform the X variable to have the polynomial features\n",
        "X_train = poly_features.fit_transform(X_train)\n",
        "X_test = poly_features.fit_transform(X_test)"
      ],
      "execution_count": 212,
      "outputs": []
    },
    {
      "cell_type": "code",
      "metadata": {
        "colab": {
          "base_uri": "https://localhost:8080/"
        },
        "id": "wj4nBTKb3T5x",
        "outputId": "2fb4d900-25c2-4a6a-b87f-7b7705ad8a9c"
      },
      "source": [
        "# Training the model\n",
        "regressor = LinearRegression()\n",
        "regressor.fit(X_train, y_train)"
      ],
      "execution_count": 213,
      "outputs": [
        {
          "output_type": "execute_result",
          "data": {
            "text/plain": [
              "LinearRegression(copy_X=True, fit_intercept=True, n_jobs=None, normalize=False)"
            ]
          },
          "metadata": {
            "tags": []
          },
          "execution_count": 213
        }
      ]
    },
    {
      "cell_type": "code",
      "metadata": {
        "id": "0l4JbXEY3X3z"
      },
      "source": [
        "# Making predictions\n",
        "\n",
        "y_pred = regressor.predict(X_test)"
      ],
      "execution_count": 214,
      "outputs": []
    },
    {
      "cell_type": "code",
      "metadata": {
        "colab": {
          "base_uri": "https://localhost:8080/"
        },
        "id": "gaZ7d4MJ3cSP",
        "outputId": "0b30bc79-7b06-4ffd-c3e9-2d414923bef9"
      },
      "source": [
        "# Measuring the accuracy of the model using the root mean square \n",
        "\n",
        "print(\"The RMSE score for the model : \", np.sqrt(mean_squared_error(y_test, y_pred)))"
      ],
      "execution_count": 215,
      "outputs": [
        {
          "output_type": "stream",
          "text": [
            "The RMSE score for the model :  1.1404901689205738\n"
          ],
          "name": "stdout"
        }
      ]
    },
    {
      "cell_type": "code",
      "metadata": {
        "colab": {
          "base_uri": "https://localhost:8080/",
          "height": 295
        },
        "id": "HuGHAJbh3kHf",
        "outputId": "9fc01ab8-c5b9-4bbb-b175-a55ae9d12d26"
      },
      "source": [
        "# Plotting the residuals \n",
        "residuals = y_pred - y_test\n",
        "\n",
        "# Plotting the prediction errors using a residuals plot\n",
        "\n",
        "plt.scatter(y_pred, residuals, color='yellow')\n",
        "plt.title('Residual Plot')\n",
        "plt.ylabel('residual')\n",
        "plt.xlabel('fitted values')\n",
        "plt.axhline(y= residuals.mean(), color='black')\n",
        "plt.show()"
      ],
      "execution_count": 216,
      "outputs": [
        {
          "output_type": "display_data",
          "data": {
            "image/png": "[encoded data removed]",
            "text/plain": [
              "<Figure size 432x288 with 1 Axes>"
            ]
          },
          "metadata": {
            "tags": [],
            "needs_background": "light"
          }
        }
      ]
    },
    {
      "cell_type": "markdown",
      "metadata": {
        "id": "IoUh2ya45OYe"
      },
      "source": [
        "## 7.4 Logistic Regression"
      ]
    },
    {
      "cell_type": "markdown",
      "metadata": {
        "id": "2wOF7tC5Os_l"
      },
      "source": [
        "### Model : Figure out from the home team’s perspective if the game is a Win, Lose or Draw (W, L, D)"
      ]
    },
    {
      "cell_type": "code",
      "metadata": {
        "id": "AHdmBKxW5HG7"
      },
      "source": [
        "# Locating the columns we will use\n",
        "X = fifa.iloc[:, [0,1,2,3,4,5,6]]\n",
        "Y = fifa.status"
      ],
      "execution_count": 217,
      "outputs": []
    },
    {
      "cell_type": "code",
      "metadata": {
        "id": "s0NE3p1r5o30"
      },
      "source": [
        "# Encoding the categorical variables using the get dummies function\n",
        "X = pd.get_dummies(X, drop_first=True)"
      ],
      "execution_count": 218,
      "outputs": []
    },
    {
      "cell_type": "code",
      "metadata": {
        "id": "Mgpn5bOL5qtH"
      },
      "source": [
        "# Splitting the dataset into train and test sets\n",
        "\n",
        "X_train, X_test, y_train, y_test = train_test_split(X, Y, test_size = 0.3, random_state = 30)"
      ],
      "execution_count": 219,
      "outputs": []
    },
    {
      "cell_type": "code",
      "metadata": {
        "id": "l7pteErf5w21"
      },
      "source": [
        "# Introducing logistic regression to our dataset\n",
        "logistic = LogisticRegression()\n",
        "\n",
        "# Fit and transform the train sets\n",
        "logistic.fit(X_train, y_train)\n",
        "\n",
        "# Making predictions using the logistic model\n",
        "y_pred = logistic.predict(X_test)"
      ],
      "execution_count": 220,
      "outputs": []
    },
    {
      "cell_type": "code",
      "metadata": {
        "colab": {
          "base_uri": "https://localhost:8080/"
        },
        "id": "NO2EkGyk6UjC",
        "outputId": "b9ae1532-5cc0-4ad4-bc98-f6f60fcdb5ff"
      },
      "source": [
        "# Measuring the accuracy of the model using the accuracy_score function\n",
        "print(\"The accuracy of the model is\", {accuracy_score(y_test, y_pred)})"
      ],
      "execution_count": 221,
      "outputs": [
        {
          "output_type": "stream",
          "text": [
            "The accuracy of the model is {1.0}\n"
          ],
          "name": "stdout"
        }
      ]
    },
    {
      "cell_type": "markdown",
      "metadata": {
        "id": "HdbHn3cu_K0c"
      },
      "source": [
        "# 8.0 Challenging the Solution"
      ]
    },
    {
      "cell_type": "markdown",
      "metadata": {
        "id": "-k76R28yGHKz"
      },
      "source": [
        "## 8.1 Cross Validation"
      ]
    },
    {
      "cell_type": "code",
      "metadata": {
        "colab": {
          "base_uri": "https://localhost:8080/",
          "height": 80
        },
        "id": "PwcVWWPtHIXt",
        "outputId": "eb2b0c80-d6df-4c79-9a18-244d9771ea5d"
      },
      "source": [
        "fifa.head(1)"
      ],
      "execution_count": 222,
      "outputs": [
        {
          "output_type": "execute_result",
          "data": {
            "text/html": [
              "<div>\n",
              "<style scoped>\n",
              "    .dataframe tbody tr th:only-of-type {\n",
              "        vertical-align: middle;\n",
              "    }\n",
              "\n",
              "    .dataframe tbody tr th {\n",
              "        vertical-align: top;\n",
              "    }\n",
              "\n",
              "    .dataframe thead th {\n",
              "        text-align: right;\n",
              "    }\n",
              "</style>\n",
              "<table border=\"1\" class=\"dataframe\">\n",
              "  <thead>\n",
              "    <tr style=\"text-align: right;\">\n",
              "      <th></th>\n",
              "      <th>home_team</th>\n",
              "      <th>away_team</th>\n",
              "      <th>home_score</th>\n",
              "      <th>away_score</th>\n",
              "      <th>home_team_rank</th>\n",
              "      <th>away_team_rank</th>\n",
              "      <th>tournament_type</th>\n",
              "      <th>status</th>\n",
              "    </tr>\n",
              "  </thead>\n",
              "  <tbody>\n",
              "    <tr>\n",
              "      <th>0</th>\n",
              "      <td>Sweden</td>\n",
              "      <td>Switzerland</td>\n",
              "      <td>1</td>\n",
              "      <td>2</td>\n",
              "      <td>4</td>\n",
              "      <td>3</td>\n",
              "      <td>Friendly</td>\n",
              "      <td>Lose</td>\n",
              "    </tr>\n",
              "  </tbody>\n",
              "</table>\n",
              "</div>"
            ],
            "text/plain": [
              "  home_team    away_team  home_score  ...  away_team_rank  tournament_type  status\n",
              "0    Sweden  Switzerland           1  ...               3         Friendly    Lose\n",
              "\n",
              "[1 rows x 8 columns]"
            ]
          },
          "metadata": {
            "tags": []
          },
          "execution_count": 222
        }
      ]
    },
    {
      "cell_type": "code",
      "metadata": {
        "id": "01Uo63riG5Md"
      },
      "source": [
        "# Performing Data Preprocessing\n",
        "X = fifa.iloc[:, [0,1,3,4,5,6]]\n",
        "y = fifa.home_score"
      ],
      "execution_count": 223,
      "outputs": []
    },
    {
      "cell_type": "code",
      "metadata": {
        "id": "uXhgdbDGH5bG"
      },
      "source": [
        "# Encoding the categorical variables using the get dummies function\n",
        "X = pd.get_dummies(X, drop_first=True)"
      ],
      "execution_count": 224,
      "outputs": []
    },
    {
      "cell_type": "code",
      "metadata": {
        "id": "fg2-Q_DZHopm"
      },
      "source": [
        "# Splitting the data into the test and train sets\n",
        "from sklearn.model_selection import train_test_split\n",
        "X_train, X_test, y_train, y_test = train_test_split(X, y)"
      ],
      "execution_count": 225,
      "outputs": []
    },
    {
      "cell_type": "code",
      "metadata": {
        "id": "BVA2oSB8Htpy"
      },
      "source": [
        "# Scaling our Data\n",
        "from sklearn.preprocessing import StandardScaler\n",
        "feature_scaler = StandardScaler()\n",
        "X_train = feature_scaler.fit_transform(X_train)\n",
        "X_test = feature_scaler.transform(X_test)"
      ],
      "execution_count": 226,
      "outputs": []
    },
    {
      "cell_type": "code",
      "metadata": {
        "id": "DHlPCyWhISAY"
      },
      "source": [
        "# Training and Cross Validation\n",
        "\n",
        "from sklearn.ensemble import RandomForestClassifier\n",
        "classifier = RandomForestClassifier(n_estimators=300, random_state=0)"
      ],
      "execution_count": 227,
      "outputs": []
    },
    {
      "cell_type": "code",
      "metadata": {
        "id": "5OxBN6soIbBx"
      },
      "source": [
        "# Training and Cross Validation\n",
        "# Next, to implement cross validation, the cross_val_score method \n",
        "# of the sklearn.model_selection library can be used.\n",
        "from sklearn.model_selection import cross_val_score\n",
        "all_accuracies = cross_val_score(estimator=classifier, X=X_train, y=y_train, cv=10)"
      ],
      "execution_count": 228,
      "outputs": []
    },
    {
      "cell_type": "code",
      "metadata": {
        "colab": {
          "base_uri": "https://localhost:8080/"
        },
        "id": "qBEP5nn0JFUC",
        "outputId": "bc756155-8ada-41ad-adcf-5f2e541afadf"
      },
      "source": [
        "# Printing the accuracies returned for ten folds \n",
        "print(all_accuracies.mean())"
      ],
      "execution_count": 229,
      "outputs": [
        {
          "output_type": "stream",
          "text": [
            "0.5517376586456549\n"
          ],
          "name": "stdout"
        }
      ]
    },
    {
      "cell_type": "markdown",
      "metadata": {
        "id": "4uUeq1sWKhjd"
      },
      "source": [
        "**While using cross validation, I was able to compute the accuracy for predicting the home score as returned by 10 folds to be 55% which is very low.** "
      ]
    }
  ]
}